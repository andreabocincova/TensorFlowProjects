{
 "cells": [
  {
   "cell_type": "markdown",
   "id": "343ec45d",
   "metadata": {},
   "source": [
    "## Basic linear fit wx+b = z using TENSORFLOW"
   ]
  },
  {
   "cell_type": "markdown",
   "id": "d0f013fb",
   "metadata": {},
   "source": [
    "w - variable\n",
    "b - variable\n",
    "x - placeholder (data)\n",
    "wx - matrix multiplication\n",
    "wx+b addition \n",
    "--> pass thruough activation function to generate z"
   ]
  },
  {
   "cell_type": "code",
   "execution_count": 1,
   "id": "c3ea0a78",
   "metadata": {},
   "outputs": [],
   "source": [
    "import numpy as np\n",
    "import tensorflow as tf"
   ]
  },
  {
   "cell_type": "code",
   "execution_count": 2,
   "id": "cb3abc1e",
   "metadata": {},
   "outputs": [],
   "source": [
    "np.random.seed(101)\n",
    "tf.random.set_seed(101)"
   ]
  },
  {
   "cell_type": "code",
   "execution_count": 4,
   "id": "58f6bd00",
   "metadata": {},
   "outputs": [
    {
     "data": {
      "text/plain": [
       "array([[51.63986277, 57.06675869,  2.84742265, 17.15216562, 68.52769817],\n",
       "       [83.38968626, 30.69662197, 89.36130797, 72.15438618, 18.99389542],\n",
       "       [55.42275911, 35.2131954 , 18.18924027, 78.56017619, 96.54832224],\n",
       "       [23.23536618,  8.35614337, 60.35484223, 72.89927573, 27.62388285],\n",
       "       [68.53063288, 51.78674742,  4.84845374, 13.78692376, 18.69674261]])"
      ]
     },
     "execution_count": 4,
     "metadata": {},
     "output_type": "execute_result"
    }
   ],
   "source": [
    "rand_a = np.random.uniform(0,100,(5,5))\n",
    "rand_a"
   ]
  },
  {
   "cell_type": "code",
   "execution_count": 6,
   "id": "e0d8cbdc",
   "metadata": {},
   "outputs": [],
   "source": [
    "rand_b = np.random.uniform(0,100,(5,1))"
   ]
  },
  {
   "cell_type": "code",
   "execution_count": 10,
   "id": "55be1985",
   "metadata": {},
   "outputs": [],
   "source": [
    "tf.compat.v1.disable_eager_execution()"
   ]
  },
  {
   "cell_type": "code",
   "execution_count": 11,
   "id": "aa9f08b3",
   "metadata": {},
   "outputs": [],
   "source": [
    "a = tf.compat.v1.placeholder(tf.float32)"
   ]
  },
  {
   "cell_type": "code",
   "execution_count": 12,
   "id": "c45ed355",
   "metadata": {},
   "outputs": [],
   "source": [
    "b = tf.compat.v1.placeholder(tf.float32)"
   ]
  },
  {
   "cell_type": "code",
   "execution_count": 13,
   "id": "3c55e79c",
   "metadata": {},
   "outputs": [],
   "source": [
    "add_op = a + b"
   ]
  },
  {
   "cell_type": "code",
   "execution_count": 14,
   "id": "e6741db6",
   "metadata": {},
   "outputs": [],
   "source": [
    "mul_op = a * b"
   ]
  },
  {
   "cell_type": "code",
   "execution_count": 19,
   "id": "faa7adc8",
   "metadata": {},
   "outputs": [
    {
     "name": "stdout",
     "output_type": "stream",
     "text": [
      "[[151.07166  156.49855  102.27921  116.58396  167.95949 ]\n",
      " [135.45622   82.76316  141.42784  124.22093   71.06043 ]\n",
      " [113.30171   93.09215   76.06819  136.43912  154.42728 ]\n",
      " [ 96.71727   81.83804  133.83675  146.38118  101.10579 ]\n",
      " [122.72681  105.982925  59.044632  67.9831    72.89292 ]]\n",
      "[[5134.644   5674.25     283.12433 1705.4707  6813.8315 ]\n",
      " [4341.8125  1598.267   4652.734   3756.8293   988.94635]\n",
      " [3207.8113  2038.1029  1052.7742  4546.9805  5588.1157 ]\n",
      " [1707.379    614.02527 4434.989   5356.7773  2029.8555 ]\n",
      " [3714.0984  2806.6438   262.76764  747.19855 1013.292  ]]\n"
     ]
    }
   ],
   "source": [
    "with tf.compat.v1.Session() as sess:\n",
    "    \n",
    "    add_result = sess.run(add_op,feed_dict={a:rand_a,b:rand_b})\n",
    "    print(add_result)\n",
    "    \n",
    "    mult_result = sess.run(mul_op, feed_dict = {a:rand_a,b:rand_b})\n",
    "    print(mult_result)"
   ]
  },
  {
   "cell_type": "markdown",
   "id": "69474df3",
   "metadata": {},
   "source": [
    "## EXAMPLE NEURAL NETWORK"
   ]
  },
  {
   "cell_type": "code",
   "execution_count": 22,
   "id": "35a2116e",
   "metadata": {},
   "outputs": [],
   "source": [
    "n_features = 10\n",
    "n_dense_neurons = 3"
   ]
  },
  {
   "cell_type": "code",
   "execution_count": 40,
   "id": "9e054ecf",
   "metadata": {},
   "outputs": [],
   "source": [
    "x = tf.compat.v1.placeholder(tf.float32,(n_features,None))"
   ]
  },
  {
   "cell_type": "code",
   "execution_count": 41,
   "id": "e02b5cd7",
   "metadata": {},
   "outputs": [],
   "source": [
    "W = tf.Variable(tf.random.normal([n_dense_neurons,n_features]))"
   ]
  },
  {
   "cell_type": "code",
   "execution_count": 42,
   "id": "5b485878",
   "metadata": {},
   "outputs": [],
   "source": [
    "b = tf.Variable(tf.ones([n_dense_neurons,1]))"
   ]
  },
  {
   "cell_type": "code",
   "execution_count": 43,
   "id": "24202a22",
   "metadata": {},
   "outputs": [],
   "source": [
    "Wx = tf.matmul(W,x)\n",
    "z = tf.add(Wx,b)"
   ]
  },
  {
   "cell_type": "code",
   "execution_count": 44,
   "id": "e1fd060d",
   "metadata": {},
   "outputs": [],
   "source": [
    "a = tf.sigmoid(z)"
   ]
  },
  {
   "cell_type": "code",
   "execution_count": 46,
   "id": "30af24e7",
   "metadata": {},
   "outputs": [],
   "source": [
    "init = tf.compat.v1.global_variables_initializer()"
   ]
  },
  {
   "cell_type": "code",
   "execution_count": 48,
   "id": "ea8aa530",
   "metadata": {},
   "outputs": [],
   "source": [
    "with tf.compat.v1.Session() as sess:\n",
    "    \n",
    "    sess.run(init)\n",
    "    \n",
    "    layer_out = sess.run(a,feed_dict = {x: np.random.random([n_features,1])})"
   ]
  },
  {
   "cell_type": "code",
   "execution_count": 49,
   "id": "10683fe6",
   "metadata": {},
   "outputs": [
    {
     "name": "stdout",
     "output_type": "stream",
     "text": [
      "[[0.9661018 ]\n",
      " [0.97217107]\n",
      " [0.2665458 ]]\n"
     ]
    }
   ],
   "source": [
    "print(layer_out)"
   ]
  },
  {
   "cell_type": "markdown",
   "id": "fb5a5350",
   "metadata": {},
   "source": [
    "## SIMPLE REGRESSION EXAMPLE"
   ]
  },
  {
   "cell_type": "code",
   "execution_count": 52,
   "id": "4d5848d8",
   "metadata": {},
   "outputs": [
    {
     "data": {
      "text/plain": [
       "array([-0.17289561,  2.24387308,  3.57001461,  3.26783558,  4.32780247,\n",
       "        5.96742265,  6.14049066,  6.63051206,  7.54219188, 10.41297596])"
      ]
     },
     "execution_count": 52,
     "metadata": {},
     "output_type": "execute_result"
    }
   ],
   "source": [
    "x_data = np.linspace(0,10,10) + np.random.uniform(-1.5,1.5,10)\n",
    "x_data"
   ]
  },
  {
   "cell_type": "code",
   "execution_count": 53,
   "id": "060363f6",
   "metadata": {},
   "outputs": [],
   "source": [
    "y_label = np.linspace(0,10,10) + np.random.uniform(-1.5,1.5,10)"
   ]
  },
  {
   "cell_type": "code",
   "execution_count": 55,
   "id": "8c8b5135",
   "metadata": {},
   "outputs": [
    {
     "data": {
      "text/plain": [
       "[<matplotlib.lines.Line2D at 0x7fdc48ac4f10>]"
      ]
     },
     "execution_count": 55,
     "metadata": {},
     "output_type": "execute_result"
    },
    {
     "data": {
      "image/png": "[encoded data removed]",
      "text/plain": [
       "<Figure size 432x288 with 1 Axes>"
      ]
     },
     "metadata": {
      "needs_background": "light"
     },
     "output_type": "display_data"
    }
   ],
   "source": [
    "import matplotlib.pyplot as plt\n",
    "%matplotlib inline\n",
    "plt.plot(x_data,y_label,'*')"
   ]
  },
  {
   "cell_type": "markdown",
   "id": "3ddbb82a",
   "metadata": {},
   "source": [
    "y = mx + b"
   ]
  },
  {
   "cell_type": "code",
   "execution_count": 68,
   "id": "b11e870f",
   "metadata": {},
   "outputs": [],
   "source": [
    "rand_vals = np.random.rand(2) # initialize the parameters randomly, the network will then calculate these"
   ]
  },
  {
   "cell_type": "code",
   "execution_count": 60,
   "id": "38c5b811",
   "metadata": {},
   "outputs": [],
   "source": [
    "m = tf.Variable(rand_vals[0])\n",
    "b = tf.Variable(rand_vals[1])"
   ]
  },
  {
   "cell_type": "code",
   "execution_count": 61,
   "id": "861a7e18",
   "metadata": {},
   "outputs": [],
   "source": [
    "error = 0\n",
    "\n",
    "for x,y in zip(x_data,y_label):\n",
    "    y_hat = m*x + b\n",
    "    \n",
    "    error += (y-y_hat)**2\n"
   ]
  },
  {
   "cell_type": "code",
   "execution_count": 66,
   "id": "b8b20ecf",
   "metadata": {},
   "outputs": [],
   "source": [
    "optimizer = tf.compat.v1.train.GradientDescentOptimizer(learning_rate=0.001)\n",
    "train = optimizer.minimize(error)"
   ]
  },
  {
   "cell_type": "code",
   "execution_count": 67,
   "id": "c6cf74d3",
   "metadata": {},
   "outputs": [],
   "source": [
    "init = tf.compat.v1.global_variables_initializer()"
   ]
  },
  {
   "cell_type": "code",
   "execution_count": 71,
   "id": "74a8dd75",
   "metadata": {},
   "outputs": [],
   "source": [
    "with tf.compat.v1.Session() as sess:\n",
    "    \n",
    "    sess.run(init)\n",
    "    \n",
    "    training_steps = 100\n",
    "    \n",
    "    for i in range(training_steps):\n",
    "        \n",
    "        sess.run(train)\n",
    "    \n",
    "    final_slope, final_intercept = sess.run([m,b])"
   ]
  },
  {
   "cell_type": "code",
   "execution_count": 72,
   "id": "269785c2",
   "metadata": {},
   "outputs": [
    {
     "data": {
      "text/plain": [
       "[<matplotlib.lines.Line2D at 0x7fdc284c9e50>]"
      ]
     },
     "execution_count": 72,
     "metadata": {},
     "output_type": "execute_result"
    },
    {
     "data": {
      "image/png": "[encoded data removed]",
      "text/plain": [
       "<Figure size 432x288 with 1 Axes>"
      ]
     },
     "metadata": {
      "needs_background": "light"
     },
     "output_type": "display_data"
    }
   ],
   "source": [
    "x_test = np.linspace(-1,11,10)\n",
    "\n",
    "y_pred_plot = final_slope*x_test + final_intercept\n",
    "\n",
    "plt.plot(x_test,y_pred_plot,'r')\n",
    "plt.plot(x_data,y_label,'*')"
   ]
  },
  {
   "cell_type": "code",
   "execution_count": null,
   "id": "fd979622",
   "metadata": {},
   "outputs": [],
   "source": []
  },
  {
   "cell_type": "markdown",
   "id": "d0609028",
   "metadata": {},
   "source": [
    "## TENSOR FLOW REGRESSION "
   ]
  },
  {
   "cell_type": "code",
   "execution_count": 73,
   "id": "03843090",
   "metadata": {},
   "outputs": [],
   "source": [
    "import pandas as pd"
   ]
  },
  {
   "cell_type": "code",
   "execution_count": 74,
   "id": "66f57743",
   "metadata": {},
   "outputs": [],
   "source": [
    "x_data = np.linspace(0.0,10.0,1000000)\n",
    "noise = np.random.randn(len(x_data))"
   ]
  },
  {
   "cell_type": "markdown",
   "id": "adbaa681",
   "metadata": {},
   "source": [
    "y = mx+b\n",
    "\n",
    "b = 5"
   ]
  },
  {
   "cell_type": "code",
   "execution_count": 75,
   "id": "f0f2d3c7",
   "metadata": {},
   "outputs": [],
   "source": [
    "y_true = (.5 * x_data) + 5 + noise "
   ]
  },
  {
   "cell_type": "code",
   "execution_count": 76,
   "id": "a0977159",
   "metadata": {},
   "outputs": [],
   "source": [
    "x_df = pd.DataFrame(data=x_data, columns = ['X Data'])\n",
    "y_df = pd.DataFrame(data=y_true, columns = ['Y'])\n",
    "\n",
    "my_data = pd.concat([x_df,y_df],axis = 1)"
   ]
  },
  {
   "cell_type": "code",
   "execution_count": 77,
   "id": "c7e34e89",
   "metadata": {},
   "outputs": [
    {
     "data": {
      "text/html": [
       "<div>\n",
       "<style scoped>\n",
       "    .dataframe tbody tr th:only-of-type {\n",
       "        vertical-align: middle;\n",
       "    }\n",
       "\n",
       "    .dataframe tbody tr th {\n",
       "        vertical-align: top;\n",
       "    }\n",
       "\n",
       "    .dataframe thead th {\n",
       "        text-align: right;\n",
       "    }\n",
       "</style>\n",
       "<table border=\"1\" class=\"dataframe\">\n",
       "  <thead>\n",
       "    <tr style=\"text-align: right;\">\n",
       "      <th></th>\n",
       "      <th>X Data</th>\n",
       "      <th>Y</th>\n",
       "    </tr>\n",
       "  </thead>\n",
       "  <tbody>\n",
       "    <tr>\n",
       "      <th>0</th>\n",
       "      <td>0.00000</td>\n",
       "      <td>3.994813</td>\n",
       "    </tr>\n",
       "    <tr>\n",
       "      <th>1</th>\n",
       "      <td>0.00001</td>\n",
       "      <td>4.258215</td>\n",
       "    </tr>\n",
       "    <tr>\n",
       "      <th>2</th>\n",
       "      <td>0.00002</td>\n",
       "      <td>5.187135</td>\n",
       "    </tr>\n",
       "    <tr>\n",
       "      <th>3</th>\n",
       "      <td>0.00003</td>\n",
       "      <td>4.267170</td>\n",
       "    </tr>\n",
       "    <tr>\n",
       "      <th>4</th>\n",
       "      <td>0.00004</td>\n",
       "      <td>3.617100</td>\n",
       "    </tr>\n",
       "  </tbody>\n",
       "</table>\n",
       "</div>"
      ],
      "text/plain": [
       "    X Data         Y\n",
       "0  0.00000  3.994813\n",
       "1  0.00001  4.258215\n",
       "2  0.00002  5.187135\n",
       "3  0.00003  4.267170\n",
       "4  0.00004  3.617100"
      ]
     },
     "execution_count": 77,
     "metadata": {},
     "output_type": "execute_result"
    }
   ],
   "source": [
    "my_data.head()"
   ]
  },
  {
   "cell_type": "code",
   "execution_count": 78,
   "id": "a56c04f2",
   "metadata": {},
   "outputs": [
    {
     "data": {
      "text/plain": [
       "<AxesSubplot:xlabel='X Data', ylabel='Y'>"
      ]
     },
     "execution_count": 78,
     "metadata": {},
     "output_type": "execute_result"
    },
    {
     "data": {
      "image/png": "[encoded data removed]",
      "text/plain": [
       "<Figure size 432x288 with 1 Axes>"
      ]
     },
     "metadata": {
      "needs_background": "light"
     },
     "output_type": "display_data"
    }
   ],
   "source": [
    "# plot a subsample\n",
    "my_data.sample(n=250).plot(kind='scatter',x='X Data', y = 'Y')"
   ]
  },
  {
   "cell_type": "code",
   "execution_count": 79,
   "id": "72080542",
   "metadata": {},
   "outputs": [],
   "source": [
    "# feed batches of data\n",
    "batch_size = 8"
   ]
  },
  {
   "cell_type": "code",
   "execution_count": 87,
   "id": "6ff60135",
   "metadata": {},
   "outputs": [],
   "source": [
    "rand_vals = np.random.rand(2) # initialize randomly\n",
    "m = tf.Variable(rand_vals[0],dtype=tf.float32)\n",
    "b = tf.Variable(rand_vals[1],dtype=tf.float32)"
   ]
  },
  {
   "cell_type": "code",
   "execution_count": 88,
   "id": "45b692fa",
   "metadata": {},
   "outputs": [],
   "source": [
    "xph = tf.compat.v1.placeholder(tf.float32,[batch_size])"
   ]
  },
  {
   "cell_type": "code",
   "execution_count": 89,
   "id": "00aeab80",
   "metadata": {},
   "outputs": [],
   "source": [
    "yph = tf.compat.v1.placeholder(tf.float32,[batch_size])"
   ]
  },
  {
   "cell_type": "code",
   "execution_count": 90,
   "id": "c47afa83",
   "metadata": {},
   "outputs": [],
   "source": [
    "y_model = m*xph + b"
   ]
  },
  {
   "cell_type": "code",
   "execution_count": 91,
   "id": "adf4d17d",
   "metadata": {},
   "outputs": [],
   "source": [
    "error = tf.reduce_sum(tf.square(yph-y_model)) #loss funciton"
   ]
  },
  {
   "cell_type": "code",
   "execution_count": 92,
   "id": "1d65d0c3",
   "metadata": {},
   "outputs": [],
   "source": [
    "optimizer = tf.compat.v1.train.GradientDescentOptimizer(learning_rate=0.001)\n",
    "train = optimizer.minimize(error)"
   ]
  },
  {
   "cell_type": "code",
   "execution_count": 93,
   "id": "e81cd97f",
   "metadata": {},
   "outputs": [],
   "source": [
    "init = tf.compat.v1.global_variables_initializer()"
   ]
  },
  {
   "cell_type": "code",
   "execution_count": 96,
   "id": "6ac5baa1",
   "metadata": {},
   "outputs": [],
   "source": [
    "with tf.compat.v1.Session() as sess:\n",
    "    \n",
    "    sess.run(init)\n",
    "    \n",
    "    batches = 1000\n",
    "    \n",
    "    for i in range(batches):\n",
    "        \n",
    "        rand_ind = np.random.randint(len(x_data),size=batch_size)\n",
    "        \n",
    "        feed = {xph:x_data[rand_ind],yph : y_true[rand_ind]}\n",
    "        \n",
    "        sess.run(train,feed_dict = feed)\n",
    "    \n",
    "    model_m, model_b = sess.run([m,b])"
   ]
  },
  {
   "cell_type": "code",
   "execution_count": 97,
   "id": "a4e75cd4",
   "metadata": {},
   "outputs": [
    {
     "data": {
      "text/plain": [
       "0.5297683"
      ]
     },
     "execution_count": 97,
     "metadata": {},
     "output_type": "execute_result"
    }
   ],
   "source": [
    "model_m"
   ]
  },
  {
   "cell_type": "code",
   "execution_count": 100,
   "id": "a5291217",
   "metadata": {},
   "outputs": [
    {
     "data": {
      "text/plain": [
       "4.9137955"
      ]
     },
     "execution_count": 100,
     "metadata": {},
     "output_type": "execute_result"
    }
   ],
   "source": [
    "model_b"
   ]
  },
  {
   "cell_type": "code",
   "execution_count": 101,
   "id": "5950248a",
   "metadata": {},
   "outputs": [],
   "source": [
    "y_hat = x_data*model_m+model_b"
   ]
  },
  {
   "cell_type": "code",
   "execution_count": 103,
   "id": "b226a310",
   "metadata": {},
   "outputs": [
    {
     "data": {
      "text/plain": [
       "[<matplotlib.lines.Line2D at 0x7fdc5f5f0190>]"
      ]
     },
     "execution_count": 103,
     "metadata": {},
     "output_type": "execute_result"
    },
    {
     "data": {
      "image/png": "[encoded data removed]",
      "text/plain": [
       "<Figure size 432x288 with 1 Axes>"
      ]
     },
     "metadata": {
      "needs_background": "light"
     },
     "output_type": "display_data"
    }
   ],
   "source": [
    "my_data.sample(n=250).plot(kind='scatter',x='X Data', y = 'Y')\n",
    "plt.plot(x_data,y_hat,'r')"
   ]
  },
  {
   "cell_type": "code",
   "execution_count": 104,
   "id": "0e4e89cf",
   "metadata": {},
   "outputs": [],
   "source": [
    "## ESTIMATOR API\n",
    "# define list of features\n",
    "# create the estimator model \n",
    "# create a data input function\n",
    "# call train, evaluate and test"
   ]
  },
  {
   "cell_type": "code",
   "execution_count": 105,
   "id": "82fcee4a",
   "metadata": {},
   "outputs": [],
   "source": [
    "feat_cols = [tf.feature_column.numeric_column('x',shape = [1])]"
   ]
  },
  {
   "cell_type": "code",
   "execution_count": 106,
   "id": "64061f00",
   "metadata": {},
   "outputs": [
    {
     "name": "stdout",
     "output_type": "stream",
     "text": [
      "INFO:tensorflow:Using default config.\n",
      "WARNING:tensorflow:Using temporary folder as model directory: /var/folders/tk/n3k58pnd31x8x6f8yp8dgllr0000gn/T/tmpebu382uf\n",
      "INFO:tensorflow:Using config: {'_model_dir': '/var/folders/tk/n3k58pnd31x8x6f8yp8dgllr0000gn/T/tmpebu382uf', '_tf_random_seed': None, '_save_summary_steps': 100, '_save_checkpoints_steps': None, '_save_checkpoints_secs': 600, '_session_config': allow_soft_placement: true\n",
      "graph_options {\n",
      "  rewrite_options {\n",
      "    meta_optimizer_iterations: ONE\n",
      "  }\n",
      "}\n",
      ", '_keep_checkpoint_max': 5, '_keep_checkpoint_every_n_hours': 10000, '_log_step_count_steps': 100, '_train_distribute': None, '_device_fn': None, '_protocol': None, '_eval_distribute': None, '_experimental_distribute': None, '_experimental_max_worker_delay_secs': None, '_session_creation_timeout_secs': 7200, '_checkpoint_save_graph_def': True, '_service': None, '_cluster_spec': ClusterSpec({}), '_task_type': 'worker', '_task_id': 0, '_global_id_in_cluster': 0, '_master': '', '_evaluation_master': '', '_is_chief': True, '_num_ps_replicas': 0, '_num_worker_replicas': 1}\n"
     ]
    }
   ],
   "source": [
    "estimator = tf.estimator.LinearRegressor(feature_columns=feat_cols)"
   ]
  },
  {
   "cell_type": "code",
   "execution_count": 107,
   "id": "b17a4b22",
   "metadata": {},
   "outputs": [],
   "source": [
    "from sklearn.model_selection import train_test_splitain_test_split"
   ]
  },
  {
   "cell_type": "code",
   "execution_count": 109,
   "id": "46712409",
   "metadata": {},
   "outputs": [],
   "source": [
    "X_train, X_test, y_train, y_test = train_test_split(\n",
    "...     x_data, y_true, test_size=0.3, random_state=101)"
   ]
  },
  {
   "cell_type": "code",
   "execution_count": 111,
   "id": "7668645c",
   "metadata": {},
   "outputs": [
    {
     "name": "stdout",
     "output_type": "stream",
     "text": [
      "WARNING:tensorflow:From /opt/anaconda3/lib/python3.7/site-packages/tensorflow/python/util/lazy_loader.py:63: The name tf.estimator.inputs is deprecated. Please use tf.compat.v1.estimator.inputs instead.\n",
      "\n"
     ]
    }
   ],
   "source": [
    "input_func = tf.compat.v1.estimator.inputs.numpy_input_fn({'x' : X_train},\n",
    "                                                          y_train,batch_size=8,num_epochs=None,shuffle=True)"
   ]
  },
  {
   "cell_type": "code",
   "execution_count": 112,
   "id": "95f92ffa",
   "metadata": {},
   "outputs": [],
   "source": [
    "train_input_func = tf.compat.v1.estimator.inputs.numpy_input_fn({'x' : X_train},\n",
    "                                                          y_train,batch_size=8,num_epochs=1000,shuffle=False)"
   ]
  },
  {
   "cell_type": "code",
   "execution_count": 113,
   "id": "fadae210",
   "metadata": {},
   "outputs": [],
   "source": [
    "eval_input_func = tf.compat.v1.estimator.inputs.numpy_input_fn({'x' : X_test},\n",
    "                                                          y_test,batch_size=8,num_epochs=1000,shuffle=False)"
   ]
  },
  {
   "cell_type": "code",
   "execution_count": 116,
   "id": "8de911e0",
   "metadata": {},
   "outputs": [
    {
     "name": "stdout",
     "output_type": "stream",
     "text": [
      "WARNING:tensorflow:From /opt/anaconda3/lib/python3.7/site-packages/tensorflow/python/training/training_util.py:236: Variable.initialized_value (from tensorflow.python.ops.variables) is deprecated and will be removed in a future version.\n",
      "Instructions for updating:\n",
      "Use Variable.read_value. Variables in 2.X are initialized automatically both in eager and graph (inside tf.defun) contexts.\n",
      "WARNING:tensorflow:From /opt/anaconda3/lib/python3.7/site-packages/tensorflow_estimator/python/estimator/inputs/queues/feeding_queue_runner.py:65: QueueRunner.__init__ (from tensorflow.python.training.queue_runner_impl) is deprecated and will be removed in a future version.\n",
      "Instructions for updating:\n",
      "To construct input pipelines, use the `tf.data` module.\n",
      "WARNING:tensorflow:From /opt/anaconda3/lib/python3.7/site-packages/tensorflow_estimator/python/estimator/inputs/queues/feeding_functions.py:491: add_queue_runner (from tensorflow.python.training.queue_runner_impl) is deprecated and will be removed in a future version.\n",
      "Instructions for updating:\n",
      "To construct input pipelines, use the `tf.data` module.\n",
      "INFO:tensorflow:Calling model_fn.\n"
     ]
    },
    {
     "name": "stderr",
     "output_type": "stream",
     "text": [
      "/opt/anaconda3/lib/python3.7/site-packages/tensorflow/python/keras/engine/base_layer_v1.py:1727: UserWarning: `layer.add_variable` is deprecated and will be removed in a future version. Please use `layer.add_weight` method instead.\n",
      "  warnings.warn('`layer.add_variable` is deprecated and '\n"
     ]
    },
    {
     "name": "stdout",
     "output_type": "stream",
     "text": [
      "WARNING:tensorflow:From /opt/anaconda3/lib/python3.7/site-packages/tensorflow/python/keras/optimizer_v2/ftrl.py:134: calling Constant.__init__ (from tensorflow.python.ops.init_ops) with dtype is deprecated and will be removed in a future version.\n",
      "Instructions for updating:\n",
      "Call initializer instance with the dtype argument instead of passing it to the constructor\n",
      "INFO:tensorflow:Done calling model_fn.\n",
      "INFO:tensorflow:Create CheckpointSaverHook.\n",
      "INFO:tensorflow:Graph was finalized.\n",
      "INFO:tensorflow:Running local_init_op.\n",
      "INFO:tensorflow:Done running local_init_op.\n",
      "WARNING:tensorflow:From /opt/anaconda3/lib/python3.7/site-packages/tensorflow/python/training/monitored_session.py:906: start_queue_runners (from tensorflow.python.training.queue_runner_impl) is deprecated and will be removed in a future version.\n",
      "Instructions for updating:\n",
      "To construct input pipelines, use the `tf.data` module.\n",
      "INFO:tensorflow:Calling checkpoint listeners before saving checkpoint 0...\n",
      "INFO:tensorflow:Saving checkpoints for 0 into /var/folders/tk/n3k58pnd31x8x6f8yp8dgllr0000gn/T/tmpebu382uf/model.ckpt.\n",
      "INFO:tensorflow:Calling checkpoint listeners after saving checkpoint 0...\n",
      "INFO:tensorflow:loss = 59.545925, step = 0\n",
      "INFO:tensorflow:global_step/sec: 1288.66\n",
      "INFO:tensorflow:loss = 2.135535, step = 100 (0.095 sec)\n",
      "INFO:tensorflow:global_step/sec: 1419.26\n",
      "INFO:tensorflow:loss = 2.5003388, step = 200 (0.053 sec)\n",
      "INFO:tensorflow:global_step/sec: 1721.98\n",
      "INFO:tensorflow:loss = 2.0111098, step = 300 (0.058 sec)\n",
      "INFO:tensorflow:global_step/sec: 1694.63\n",
      "INFO:tensorflow:loss = 1.4305041, step = 400 (0.059 sec)\n",
      "INFO:tensorflow:global_step/sec: 1559.74\n",
      "INFO:tensorflow:loss = 1.0403321, step = 500 (0.064 sec)\n",
      "INFO:tensorflow:global_step/sec: 1665.15\n",
      "INFO:tensorflow:loss = 0.78961384, step = 600 (0.060 sec)\n",
      "INFO:tensorflow:global_step/sec: 1696.57\n",
      "INFO:tensorflow:loss = 1.5914854, step = 700 (0.059 sec)\n",
      "INFO:tensorflow:global_step/sec: 1673.64\n",
      "INFO:tensorflow:loss = 0.59086347, step = 800 (0.060 sec)\n",
      "INFO:tensorflow:global_step/sec: 1561.53\n",
      "INFO:tensorflow:loss = 0.80460775, step = 900 (0.064 sec)\n",
      "INFO:tensorflow:Calling checkpoint listeners before saving checkpoint 1000...\n",
      "INFO:tensorflow:Saving checkpoints for 1000 into /var/folders/tk/n3k58pnd31x8x6f8yp8dgllr0000gn/T/tmpebu382uf/model.ckpt.\n",
      "INFO:tensorflow:Calling checkpoint listeners after saving checkpoint 1000...\n",
      "INFO:tensorflow:Loss for final step: 0.9673507.\n"
     ]
    },
    {
     "data": {
      "text/plain": [
       "<tensorflow_estimator.python.estimator.canned.linear.LinearRegressorV2 at 0x7fdc389a0dd0>"
      ]
     },
     "execution_count": 116,
     "metadata": {},
     "output_type": "execute_result"
    }
   ],
   "source": [
    "estimator.train(input_fn=input_func,steps = 1000)"
   ]
  },
  {
   "cell_type": "code",
   "execution_count": 120,
   "id": "01af993d",
   "metadata": {},
   "outputs": [
    {
     "name": "stdout",
     "output_type": "stream",
     "text": [
      "INFO:tensorflow:Calling model_fn.\n",
      "INFO:tensorflow:Done calling model_fn.\n",
      "INFO:tensorflow:Starting evaluation at 2021-06-02T08:17:57Z\n",
      "INFO:tensorflow:Graph was finalized.\n",
      "INFO:tensorflow:Restoring parameters from /var/folders/tk/n3k58pnd31x8x6f8yp8dgllr0000gn/T/tmpebu382uf/model.ckpt-1000\n",
      "INFO:tensorflow:Running local_init_op.\n",
      "INFO:tensorflow:Done running local_init_op.\n",
      "INFO:tensorflow:Evaluation [100/1000]\n",
      "INFO:tensorflow:Evaluation [200/1000]\n",
      "INFO:tensorflow:Evaluation [300/1000]\n",
      "INFO:tensorflow:Evaluation [400/1000]\n",
      "INFO:tensorflow:Evaluation [500/1000]\n",
      "INFO:tensorflow:Evaluation [600/1000]\n",
      "INFO:tensorflow:Evaluation [700/1000]\n",
      "INFO:tensorflow:Evaluation [800/1000]\n",
      "INFO:tensorflow:Evaluation [900/1000]\n",
      "INFO:tensorflow:Evaluation [1000/1000]\n",
      "INFO:tensorflow:Inference Time : 0.59245s\n",
      "INFO:tensorflow:Finished evaluation at 2021-06-02-08:17:57\n",
      "INFO:tensorflow:Saving dict for global step 1000: average_loss = 1.0607953, global_step = 1000, label/mean = 7.4784026, loss = 1.0607953, prediction/mean = 7.400312\n",
      "INFO:tensorflow:Saving 'checkpoint_path' summary for global step 1000: /var/folders/tk/n3k58pnd31x8x6f8yp8dgllr0000gn/T/tmpebu382uf/model.ckpt-1000\n"
     ]
    }
   ],
   "source": [
    "train_metrics = estimator.evaluate(input_fn=train_input_func,steps=1000)"
   ]
  },
  {
   "cell_type": "code",
   "execution_count": 118,
   "id": "0241eccb",
   "metadata": {},
   "outputs": [
    {
     "name": "stdout",
     "output_type": "stream",
     "text": [
      "INFO:tensorflow:Calling model_fn.\n",
      "INFO:tensorflow:Done calling model_fn.\n",
      "INFO:tensorflow:Starting evaluation at 2021-06-02T08:17:22Z\n",
      "INFO:tensorflow:Graph was finalized.\n",
      "INFO:tensorflow:Restoring parameters from /var/folders/tk/n3k58pnd31x8x6f8yp8dgllr0000gn/T/tmpebu382uf/model.ckpt-1000\n",
      "INFO:tensorflow:Running local_init_op.\n",
      "INFO:tensorflow:Done running local_init_op.\n"
     ]
    },
    {
     "name": "stderr",
     "output_type": "stream",
     "text": [
      "/opt/anaconda3/lib/python3.7/site-packages/tensorflow/python/keras/engine/base_layer_v1.py:1727: UserWarning: `layer.add_variable` is deprecated and will be removed in a future version. Please use `layer.add_weight` method instead.\n",
      "  warnings.warn('`layer.add_variable` is deprecated and '\n"
     ]
    },
    {
     "name": "stdout",
     "output_type": "stream",
     "text": [
      "INFO:tensorflow:Evaluation [100/1000]\n",
      "INFO:tensorflow:Evaluation [200/1000]\n",
      "INFO:tensorflow:Evaluation [300/1000]\n",
      "INFO:tensorflow:Evaluation [400/1000]\n",
      "INFO:tensorflow:Evaluation [500/1000]\n",
      "INFO:tensorflow:Evaluation [600/1000]\n",
      "INFO:tensorflow:Evaluation [700/1000]\n",
      "INFO:tensorflow:Evaluation [800/1000]\n",
      "INFO:tensorflow:Evaluation [900/1000]\n",
      "INFO:tensorflow:Evaluation [1000/1000]\n",
      "INFO:tensorflow:Inference Time : 0.61159s\n",
      "INFO:tensorflow:Finished evaluation at 2021-06-02-08:17:23\n",
      "INFO:tensorflow:Saving dict for global step 1000: average_loss = 1.091344, global_step = 1000, label/mean = 7.477245, loss = 1.091344, prediction/mean = 7.3789487\n",
      "INFO:tensorflow:Saving 'checkpoint_path' summary for global step 1000: /var/folders/tk/n3k58pnd31x8x6f8yp8dgllr0000gn/T/tmpebu382uf/model.ckpt-1000\n"
     ]
    }
   ],
   "source": [
    "eval_metrics = estimator.evaluate(input_fn = eval_input_func,steps=1000)"
   ]
  },
  {
   "cell_type": "code",
   "execution_count": 121,
   "id": "d9e3c6c1",
   "metadata": {},
   "outputs": [
    {
     "name": "stdout",
     "output_type": "stream",
     "text": [
      "TRAINING DATA METRICS\n",
      "{'average_loss': 1.0607953, 'label/mean': 7.4784026, 'loss': 1.0607953, 'prediction/mean': 7.400312, 'global_step': 1000}\n"
     ]
    }
   ],
   "source": [
    "print('TRAINING DATA METRICS')\n",
    "print(train_metrics)"
   ]
  },
  {
   "cell_type": "code",
   "execution_count": 123,
   "id": "5293ac2c",
   "metadata": {},
   "outputs": [
    {
     "name": "stdout",
     "output_type": "stream",
     "text": [
      "EVAL METRICS\n",
      "{'average_loss': 1.091344, 'label/mean': 7.477245, 'loss': 1.091344, 'prediction/mean': 7.3789487, 'global_step': 1000}\n"
     ]
    }
   ],
   "source": [
    "print('EVAL METRICS')\n",
    "print(eval_metrics)"
   ]
  },
  {
   "cell_type": "code",
   "execution_count": 124,
   "id": "d44ac7a7",
   "metadata": {},
   "outputs": [],
   "source": [
    "brand_new_data = np.linspace(0,10,10)\n",
    "input_fn_predict = tf.compat.v1.estimator.inputs.numpy_input_fn({'x':brand_new_data},shuffle=False)"
   ]
  },
  {
   "cell_type": "code",
   "execution_count": 126,
   "id": "47174544",
   "metadata": {},
   "outputs": [
    {
     "name": "stdout",
     "output_type": "stream",
     "text": [
      "INFO:tensorflow:Calling model_fn.\n",
      "INFO:tensorflow:Done calling model_fn.\n",
      "INFO:tensorflow:Graph was finalized.\n",
      "INFO:tensorflow:Restoring parameters from /var/folders/tk/n3k58pnd31x8x6f8yp8dgllr0000gn/T/tmpebu382uf/model.ckpt-1000\n",
      "INFO:tensorflow:Running local_init_op.\n",
      "INFO:tensorflow:Done running local_init_op.\n"
     ]
    },
    {
     "name": "stderr",
     "output_type": "stream",
     "text": [
      "/opt/anaconda3/lib/python3.7/site-packages/tensorflow/python/keras/engine/base_layer_v1.py:1727: UserWarning: `layer.add_variable` is deprecated and will be removed in a future version. Please use `layer.add_weight` method instead.\n",
      "  warnings.warn('`layer.add_variable` is deprecated and '\n"
     ]
    },
    {
     "data": {
      "text/plain": [
       "[{'predictions': array([4.44233], dtype=float32)},\n",
       " {'predictions': array([5.0993643], dtype=float32)},\n",
       " {'predictions': array([5.756398], dtype=float32)},\n",
       " {'predictions': array([6.413432], dtype=float32)},\n",
       " {'predictions': array([7.0704665], dtype=float32)},\n",
       " {'predictions': array([7.7275004], dtype=float32)},\n",
       " {'predictions': array([8.384535], dtype=float32)},\n",
       " {'predictions': array([9.041569], dtype=float32)},\n",
       " {'predictions': array([9.698603], dtype=float32)},\n",
       " {'predictions': array([10.355637], dtype=float32)}]"
      ]
     },
     "execution_count": 126,
     "metadata": {},
     "output_type": "execute_result"
    }
   ],
   "source": [
    "list(estimator.predict(input_fn=input_fn_predict))"
   ]
  },
  {
   "cell_type": "code",
   "execution_count": 128,
   "id": "8d94c2f6",
   "metadata": {},
   "outputs": [
    {
     "name": "stdout",
     "output_type": "stream",
     "text": [
      "INFO:tensorflow:Calling model_fn.\n",
      "INFO:tensorflow:Done calling model_fn.\n",
      "INFO:tensorflow:Graph was finalized.\n",
      "INFO:tensorflow:Restoring parameters from /var/folders/tk/n3k58pnd31x8x6f8yp8dgllr0000gn/T/tmpebu382uf/model.ckpt-1000\n",
      "INFO:tensorflow:Running local_init_op.\n",
      "INFO:tensorflow:Done running local_init_op.\n"
     ]
    }
   ],
   "source": [
    "predictions = []\n",
    "\n",
    "for pred in estimator.predict(input_fn=input_fn_predict):\n",
    "             predictions.append(pred['predictions'])"
   ]
  },
  {
   "cell_type": "code",
   "execution_count": 130,
   "id": "0ae487dc",
   "metadata": {},
   "outputs": [
    {
     "data": {
      "text/plain": [
       "[<matplotlib.lines.Line2D at 0x7fdbe8063910>]"
      ]
     },
     "execution_count": 130,
     "metadata": {},
     "output_type": "execute_result"
    },
    {
     "data": {
      "image/png": "[encoded data removed]",
      "text/plain": [
       "<Figure size 432x288 with 1 Axes>"
      ]
     },
     "metadata": {
      "needs_background": "light"
     },
     "output_type": "display_data"
    }
   ],
   "source": [
    "my_data.sample(n=250).plot(kind='scatter',x = 'X Data', y = 'Y')\n",
    "plt.plot(brand_new_data,predictions,'r')"
   ]
  },
  {
   "cell_type": "code",
   "execution_count": 132,
   "id": "5be12735",
   "metadata": {},
   "outputs": [],
   "source": [
    "%config Completer.use_jedi = False #this command helps with autocomplete lags "
   ]
  },
  {
   "cell_type": "markdown",
   "id": "d43e2e07",
   "metadata": {},
   "source": [
    "## CLASSIFICATION EXAMPLE"
   ]
  },
  {
   "cell_type": "code",
   "execution_count": 144,
   "id": "906ce5c9",
   "metadata": {},
   "outputs": [
    {
     "name": "stdout",
     "output_type": "stream",
     "text": [
      "/Users/andreabocincova/Desktop/Courses/Tensorflow-Bootcamp-master 2/02-TensorFlow-Basics\n"
     ]
    }
   ],
   "source": [
    "cd /Users/andreabocincova/Desktop/Courses/Tensorflow-Bootcamp-master 2/02-TensorFlow-Basics"
   ]
  },
  {
   "cell_type": "code",
   "execution_count": 146,
   "id": "67d85be4",
   "metadata": {},
   "outputs": [],
   "source": [
    "diabetes = pd.read_csv('pima-indians-diabetes.csv')"
   ]
  },
  {
   "cell_type": "code",
   "execution_count": 147,
   "id": "5bc16138",
   "metadata": {},
   "outputs": [
    {
     "data": {
      "text/html": [
       "<div>\n",
       "<style scoped>\n",
       "    .dataframe tbody tr th:only-of-type {\n",
       "        vertical-align: middle;\n",
       "    }\n",
       "\n",
       "    .dataframe tbody tr th {\n",
       "        vertical-align: top;\n",
       "    }\n",
       "\n",
       "    .dataframe thead th {\n",
       "        text-align: right;\n",
       "    }\n",
       "</style>\n",
       "<table border=\"1\" class=\"dataframe\">\n",
       "  <thead>\n",
       "    <tr style=\"text-align: right;\">\n",
       "      <th></th>\n",
       "      <th>Number_pregnant</th>\n",
       "      <th>Glucose_concentration</th>\n",
       "      <th>Blood_pressure</th>\n",
       "      <th>Triceps</th>\n",
       "      <th>Insulin</th>\n",
       "      <th>BMI</th>\n",
       "      <th>Pedigree</th>\n",
       "      <th>Age</th>\n",
       "      <th>Class</th>\n",
       "      <th>Group</th>\n",
       "    </tr>\n",
       "  </thead>\n",
       "  <tbody>\n",
       "    <tr>\n",
       "      <th>0</th>\n",
       "      <td>6</td>\n",
       "      <td>0.743719</td>\n",
       "      <td>0.590164</td>\n",
       "      <td>0.353535</td>\n",
       "      <td>0.000000</td>\n",
       "      <td>0.500745</td>\n",
       "      <td>0.234415</td>\n",
       "      <td>50</td>\n",
       "      <td>1</td>\n",
       "      <td>B</td>\n",
       "    </tr>\n",
       "    <tr>\n",
       "      <th>1</th>\n",
       "      <td>1</td>\n",
       "      <td>0.427136</td>\n",
       "      <td>0.540984</td>\n",
       "      <td>0.292929</td>\n",
       "      <td>0.000000</td>\n",
       "      <td>0.396423</td>\n",
       "      <td>0.116567</td>\n",
       "      <td>31</td>\n",
       "      <td>0</td>\n",
       "      <td>C</td>\n",
       "    </tr>\n",
       "    <tr>\n",
       "      <th>2</th>\n",
       "      <td>8</td>\n",
       "      <td>0.919598</td>\n",
       "      <td>0.524590</td>\n",
       "      <td>0.000000</td>\n",
       "      <td>0.000000</td>\n",
       "      <td>0.347243</td>\n",
       "      <td>0.253629</td>\n",
       "      <td>32</td>\n",
       "      <td>1</td>\n",
       "      <td>B</td>\n",
       "    </tr>\n",
       "    <tr>\n",
       "      <th>3</th>\n",
       "      <td>1</td>\n",
       "      <td>0.447236</td>\n",
       "      <td>0.540984</td>\n",
       "      <td>0.232323</td>\n",
       "      <td>0.111111</td>\n",
       "      <td>0.418778</td>\n",
       "      <td>0.038002</td>\n",
       "      <td>21</td>\n",
       "      <td>0</td>\n",
       "      <td>B</td>\n",
       "    </tr>\n",
       "    <tr>\n",
       "      <th>4</th>\n",
       "      <td>0</td>\n",
       "      <td>0.688442</td>\n",
       "      <td>0.327869</td>\n",
       "      <td>0.353535</td>\n",
       "      <td>0.198582</td>\n",
       "      <td>0.642325</td>\n",
       "      <td>0.943638</td>\n",
       "      <td>33</td>\n",
       "      <td>1</td>\n",
       "      <td>C</td>\n",
       "    </tr>\n",
       "  </tbody>\n",
       "</table>\n",
       "</div>"
      ],
      "text/plain": [
       "   Number_pregnant  Glucose_concentration  Blood_pressure   Triceps   Insulin  \\\n",
       "0                6               0.743719        0.590164  0.353535  0.000000   \n",
       "1                1               0.427136        0.540984  0.292929  0.000000   \n",
       "2                8               0.919598        0.524590  0.000000  0.000000   \n",
       "3                1               0.447236        0.540984  0.232323  0.111111   \n",
       "4                0               0.688442        0.327869  0.353535  0.198582   \n",
       "\n",
       "        BMI  Pedigree  Age  Class Group  \n",
       "0  0.500745  0.234415   50      1     B  \n",
       "1  0.396423  0.116567   31      0     C  \n",
       "2  0.347243  0.253629   32      1     B  \n",
       "3  0.418778  0.038002   21      0     B  \n",
       "4  0.642325  0.943638   33      1     C  "
      ]
     },
     "execution_count": 147,
     "metadata": {},
     "output_type": "execute_result"
    }
   ],
   "source": [
    "diabetes.head()"
   ]
  },
  {
   "cell_type": "code",
   "execution_count": 149,
   "id": "d5ca8046",
   "metadata": {},
   "outputs": [
    {
     "data": {
      "text/plain": [
       "Index(['Number_pregnant', 'Glucose_concentration', 'Blood_pressure', 'Triceps',\n",
       "       'Insulin', 'BMI', 'Pedigree', 'Age', 'Class', 'Group'],\n",
       "      dtype='object')"
      ]
     },
     "execution_count": 149,
     "metadata": {},
     "output_type": "execute_result"
    }
   ],
   "source": [
    "# normalize data\n",
    "diabetes.columns"
   ]
  },
  {
   "cell_type": "code",
   "execution_count": 150,
   "id": "7636bba3",
   "metadata": {},
   "outputs": [],
   "source": [
    "cols_to_norm = ['Number_pregnant', 'Glucose_concentration', 'Blood_pressure', 'Triceps',\n",
    "       'Insulin', 'BMI', 'Pedigree',]"
   ]
  },
  {
   "cell_type": "code",
   "execution_count": 151,
   "id": "3fce6406",
   "metadata": {},
   "outputs": [],
   "source": [
    "diabetes[cols_to_norm] = diabetes[cols_to_norm].apply(lambda x: ((x-x.min())/(x.max()-x.min())))"
   ]
  },
  {
   "cell_type": "code",
   "execution_count": 152,
   "id": "0dc81efa",
   "metadata": {},
   "outputs": [
    {
     "data": {
      "text/html": [
       "<div>\n",
       "<style scoped>\n",
       "    .dataframe tbody tr th:only-of-type {\n",
       "        vertical-align: middle;\n",
       "    }\n",
       "\n",
       "    .dataframe tbody tr th {\n",
       "        vertical-align: top;\n",
       "    }\n",
       "\n",
       "    .dataframe thead th {\n",
       "        text-align: right;\n",
       "    }\n",
       "</style>\n",
       "<table border=\"1\" class=\"dataframe\">\n",
       "  <thead>\n",
       "    <tr style=\"text-align: right;\">\n",
       "      <th></th>\n",
       "      <th>Number_pregnant</th>\n",
       "      <th>Glucose_concentration</th>\n",
       "      <th>Blood_pressure</th>\n",
       "      <th>Triceps</th>\n",
       "      <th>Insulin</th>\n",
       "      <th>BMI</th>\n",
       "      <th>Pedigree</th>\n",
       "      <th>Age</th>\n",
       "      <th>Class</th>\n",
       "      <th>Group</th>\n",
       "    </tr>\n",
       "  </thead>\n",
       "  <tbody>\n",
       "    <tr>\n",
       "      <th>0</th>\n",
       "      <td>0.352941</td>\n",
       "      <td>0.743719</td>\n",
       "      <td>0.590164</td>\n",
       "      <td>0.353535</td>\n",
       "      <td>0.000000</td>\n",
       "      <td>0.500745</td>\n",
       "      <td>0.234415</td>\n",
       "      <td>50</td>\n",
       "      <td>1</td>\n",
       "      <td>B</td>\n",
       "    </tr>\n",
       "    <tr>\n",
       "      <th>1</th>\n",
       "      <td>0.058824</td>\n",
       "      <td>0.427136</td>\n",
       "      <td>0.540984</td>\n",
       "      <td>0.292929</td>\n",
       "      <td>0.000000</td>\n",
       "      <td>0.396423</td>\n",
       "      <td>0.116567</td>\n",
       "      <td>31</td>\n",
       "      <td>0</td>\n",
       "      <td>C</td>\n",
       "    </tr>\n",
       "    <tr>\n",
       "      <th>2</th>\n",
       "      <td>0.470588</td>\n",
       "      <td>0.919598</td>\n",
       "      <td>0.524590</td>\n",
       "      <td>0.000000</td>\n",
       "      <td>0.000000</td>\n",
       "      <td>0.347243</td>\n",
       "      <td>0.253629</td>\n",
       "      <td>32</td>\n",
       "      <td>1</td>\n",
       "      <td>B</td>\n",
       "    </tr>\n",
       "    <tr>\n",
       "      <th>3</th>\n",
       "      <td>0.058824</td>\n",
       "      <td>0.447236</td>\n",
       "      <td>0.540984</td>\n",
       "      <td>0.232323</td>\n",
       "      <td>0.111111</td>\n",
       "      <td>0.418778</td>\n",
       "      <td>0.038002</td>\n",
       "      <td>21</td>\n",
       "      <td>0</td>\n",
       "      <td>B</td>\n",
       "    </tr>\n",
       "    <tr>\n",
       "      <th>4</th>\n",
       "      <td>0.000000</td>\n",
       "      <td>0.688442</td>\n",
       "      <td>0.327869</td>\n",
       "      <td>0.353535</td>\n",
       "      <td>0.198582</td>\n",
       "      <td>0.642325</td>\n",
       "      <td>0.943638</td>\n",
       "      <td>33</td>\n",
       "      <td>1</td>\n",
       "      <td>C</td>\n",
       "    </tr>\n",
       "  </tbody>\n",
       "</table>\n",
       "</div>"
      ],
      "text/plain": [
       "   Number_pregnant  Glucose_concentration  Blood_pressure   Triceps   Insulin  \\\n",
       "0         0.352941               0.743719        0.590164  0.353535  0.000000   \n",
       "1         0.058824               0.427136        0.540984  0.292929  0.000000   \n",
       "2         0.470588               0.919598        0.524590  0.000000  0.000000   \n",
       "3         0.058824               0.447236        0.540984  0.232323  0.111111   \n",
       "4         0.000000               0.688442        0.327869  0.353535  0.198582   \n",
       "\n",
       "        BMI  Pedigree  Age  Class Group  \n",
       "0  0.500745  0.234415   50      1     B  \n",
       "1  0.396423  0.116567   31      0     C  \n",
       "2  0.347243  0.253629   32      1     B  \n",
       "3  0.418778  0.038002   21      0     B  \n",
       "4  0.642325  0.943638   33      1     C  "
      ]
     },
     "execution_count": 152,
     "metadata": {},
     "output_type": "execute_result"
    }
   ],
   "source": [
    "diabetes.head()"
   ]
  },
  {
   "cell_type": "code",
   "execution_count": 153,
   "id": "62e158c2",
   "metadata": {},
   "outputs": [],
   "source": [
    "num_preg = tf.feature_column.numeric_column('Number_pregnant')\n",
    "plasma_gluc = tf.feature_column.numeric_column('Glucose_concentration')\n",
    "dias_press = tf.feature_column.numeric_column('Blood_pressure')\n",
    "tricep = tf.feature_column.numeric_column('Triceps')\n",
    "insulin = tf.feature_column.numeric_column('Insulin')\n",
    "bmi = tf.feature_column.numeric_column('BMI')\n",
    "diabetes_pedigree = tf.feature_column.numeric_column('Pedigree')\n",
    "age = tf.feature_column.numeric_column('Age')"
   ]
  },
  {
   "cell_type": "code",
   "execution_count": 154,
   "id": "8ecce0b1",
   "metadata": {},
   "outputs": [],
   "source": [
    "# dealing with categorical values\n",
    "assigned_group = tf.feature_column.categorical_column_with_vocabulary_list('Group',['A','B','C','D'])"
   ]
  },
  {
   "cell_type": "code",
   "execution_count": 155,
   "id": "8cccc20b",
   "metadata": {},
   "outputs": [],
   "source": [
    "# if groupings are numerous or diverse (tensor flow will deal with this automatically)\n",
    "#assigned_group = tf.feature_column.categorical_column_with_has_bucket('Group',hash_bucket_size = 10)"
   ]
  },
  {
   "cell_type": "code",
   "execution_count": 156,
   "id": "d9758d90",
   "metadata": {},
   "outputs": [
    {
     "data": {
      "text/plain": [
       "<AxesSubplot:>"
      ]
     },
     "execution_count": 156,
     "metadata": {},
     "output_type": "execute_result"
    },
    {
     "data": {
      "image/png": "[encoded data removed]",
      "text/plain": [
       "<Figure size 432x288 with 1 Axes>"
      ]
     },
     "metadata": {
      "needs_background": "light"
     },
     "output_type": "display_data"
    }
   ],
   "source": [
    "# convert a continuous to categorical \n",
    "diabetes['Age'].hist(bins=20)"
   ]
  },
  {
   "cell_type": "code",
   "execution_count": 158,
   "id": "0606f1e3",
   "metadata": {},
   "outputs": [],
   "source": [
    "age_bucket = tf.feature_column.bucketized_column(age,boundaries = [20,30,40,50,60,70,80])"
   ]
  },
  {
   "cell_type": "code",
   "execution_count": 159,
   "id": "0ef4d60b",
   "metadata": {},
   "outputs": [],
   "source": [
    "feat_cols = [num_preg,plasma_gluc,dias_press,tricep,insulin,bmi,diabetes_pedigree,assigned_group,age_bucket]"
   ]
  },
  {
   "cell_type": "code",
   "execution_count": 162,
   "id": "2ecf166a",
   "metadata": {},
   "outputs": [],
   "source": [
    "# train test split\n",
    "x_data = diabetes.drop('Class',axis=1)\n",
    "labels = diabetes['Class']\n",
    "\n",
    "X_train, X_test, y_train, y_test = train_test_split(x_data, labels, test_size=0.3, random_state=101)"
   ]
  },
  {
   "cell_type": "code",
   "execution_count": 163,
   "id": "b000185b",
   "metadata": {},
   "outputs": [],
   "source": [
    "input_func = tf.compat.v1.estimator.inputs.pandas_input_fn(x = X_train,\n",
    "                                                           y = y_train, batch_size = 10, num_epochs= 1000,shuffle = True)"
   ]
  },
  {
   "cell_type": "code",
   "execution_count": 165,
   "id": "65dc0182",
   "metadata": {},
   "outputs": [
    {
     "name": "stdout",
     "output_type": "stream",
     "text": [
      "INFO:tensorflow:Using default config.\n",
      "WARNING:tensorflow:Using temporary folder as model directory: /var/folders/tk/n3k58pnd31x8x6f8yp8dgllr0000gn/T/tmp3k1hlcla\n",
      "INFO:tensorflow:Using config: {'_model_dir': '/var/folders/tk/n3k58pnd31x8x6f8yp8dgllr0000gn/T/tmp3k1hlcla', '_tf_random_seed': None, '_save_summary_steps': 100, '_save_checkpoints_steps': None, '_save_checkpoints_secs': 600, '_session_config': allow_soft_placement: true\n",
      "graph_options {\n",
      "  rewrite_options {\n",
      "    meta_optimizer_iterations: ONE\n",
      "  }\n",
      "}\n",
      ", '_keep_checkpoint_max': 5, '_keep_checkpoint_every_n_hours': 10000, '_log_step_count_steps': 100, '_train_distribute': None, '_device_fn': None, '_protocol': None, '_eval_distribute': None, '_experimental_distribute': None, '_experimental_max_worker_delay_secs': None, '_session_creation_timeout_secs': 7200, '_checkpoint_save_graph_def': True, '_service': None, '_cluster_spec': ClusterSpec({}), '_task_type': 'worker', '_task_id': 0, '_global_id_in_cluster': 0, '_master': '', '_evaluation_master': '', '_is_chief': True, '_num_ps_replicas': 0, '_num_worker_replicas': 1}\n"
     ]
    }
   ],
   "source": [
    "model = tf.compat.v1.estimator.LinearClassifier(feature_columns=feat_cols,n_classes=2)"
   ]
  },
  {
   "cell_type": "code",
   "execution_count": 166,
   "id": "f3377854",
   "metadata": {},
   "outputs": [
    {
     "name": "stdout",
     "output_type": "stream",
     "text": [
      "INFO:tensorflow:Calling model_fn.\n"
     ]
    },
    {
     "name": "stderr",
     "output_type": "stream",
     "text": [
      "/opt/anaconda3/lib/python3.7/site-packages/tensorflow/python/keras/engine/base_layer_v1.py:1727: UserWarning: `layer.add_variable` is deprecated and will be removed in a future version. Please use `layer.add_weight` method instead.\n",
      "  warnings.warn('`layer.add_variable` is deprecated and '\n"
     ]
    },
    {
     "name": "stdout",
     "output_type": "stream",
     "text": [
      "INFO:tensorflow:Done calling model_fn.\n",
      "INFO:tensorflow:Create CheckpointSaverHook.\n",
      "INFO:tensorflow:Graph was finalized.\n",
      "INFO:tensorflow:Running local_init_op.\n",
      "INFO:tensorflow:Done running local_init_op.\n",
      "INFO:tensorflow:Calling checkpoint listeners before saving checkpoint 0...\n",
      "INFO:tensorflow:Saving checkpoints for 0 into /var/folders/tk/n3k58pnd31x8x6f8yp8dgllr0000gn/T/tmp3k1hlcla/model.ckpt.\n",
      "INFO:tensorflow:Calling checkpoint listeners after saving checkpoint 0...\n",
      "INFO:tensorflow:loss = 6.931472, step = 0\n",
      "INFO:tensorflow:global_step/sec: 376.436\n",
      "INFO:tensorflow:loss = 3.3767223, step = 100 (0.266 sec)\n",
      "INFO:tensorflow:global_step/sec: 640.3\n",
      "INFO:tensorflow:loss = 4.901561, step = 200 (0.156 sec)\n",
      "INFO:tensorflow:global_step/sec: 647.635\n",
      "INFO:tensorflow:loss = 4.845863, step = 300 (0.154 sec)\n",
      "INFO:tensorflow:global_step/sec: 583.423\n",
      "INFO:tensorflow:loss = 4.5433774, step = 400 (0.171 sec)\n",
      "INFO:tensorflow:global_step/sec: 657.307\n",
      "INFO:tensorflow:loss = 4.7659893, step = 500 (0.153 sec)\n",
      "INFO:tensorflow:global_step/sec: 579.572\n",
      "INFO:tensorflow:loss = 7.4458866, step = 600 (0.171 sec)\n",
      "INFO:tensorflow:global_step/sec: 579.721\n",
      "INFO:tensorflow:loss = 6.4141583, step = 700 (0.172 sec)\n",
      "INFO:tensorflow:global_step/sec: 630.926\n",
      "INFO:tensorflow:loss = 4.54145, step = 800 (0.159 sec)\n",
      "INFO:tensorflow:global_step/sec: 591.937\n",
      "INFO:tensorflow:loss = 5.181713, step = 900 (0.169 sec)\n",
      "INFO:tensorflow:Calling checkpoint listeners before saving checkpoint 1000...\n",
      "INFO:tensorflow:Saving checkpoints for 1000 into /var/folders/tk/n3k58pnd31x8x6f8yp8dgllr0000gn/T/tmp3k1hlcla/model.ckpt.\n",
      "INFO:tensorflow:Calling checkpoint listeners after saving checkpoint 1000...\n",
      "INFO:tensorflow:Loss for final step: 6.1926174.\n"
     ]
    },
    {
     "data": {
      "text/plain": [
       "<tensorflow_estimator.python.estimator.canned.linear.LinearClassifier at 0x7fdc3898b050>"
      ]
     },
     "execution_count": 166,
     "metadata": {},
     "output_type": "execute_result"
    }
   ],
   "source": [
    "model.train(input_fn=input_func,steps = 1000)"
   ]
  },
  {
   "cell_type": "code",
   "execution_count": 167,
   "id": "f05b0e6c",
   "metadata": {},
   "outputs": [],
   "source": [
    "eval_input_func = tf.compat.v1.estimator.inputs.pandas_input_fn(x=X_test,y=y_test,batch_size=10,num_epochs=1,shuffle=False)"
   ]
  },
  {
   "cell_type": "code",
   "execution_count": 169,
   "id": "07f86e69",
   "metadata": {},
   "outputs": [
    {
     "name": "stdout",
     "output_type": "stream",
     "text": [
      "INFO:tensorflow:Calling model_fn.\n"
     ]
    },
    {
     "name": "stderr",
     "output_type": "stream",
     "text": [
      "/opt/anaconda3/lib/python3.7/site-packages/tensorflow/python/keras/engine/base_layer_v1.py:1727: UserWarning: `layer.add_variable` is deprecated and will be removed in a future version. Please use `layer.add_weight` method instead.\n",
      "  warnings.warn('`layer.add_variable` is deprecated and '\n"
     ]
    },
    {
     "name": "stdout",
     "output_type": "stream",
     "text": [
      "WARNING:tensorflow:From /opt/anaconda3/lib/python3.7/site-packages/tensorflow_estimator/python/estimator/canned/head.py:642: auc (from tensorflow.python.ops.metrics_impl) is deprecated and will be removed in a future version.\n",
      "Instructions for updating:\n",
      "The value of AUC returned by this may race with the update so this is deprecated. Please use tf.keras.metrics.AUC instead.\n",
      "WARNING:tensorflow:Trapezoidal rule is known to produce incorrect PR-AUCs; please switch to \"careful_interpolation\" instead.\n",
      "WARNING:tensorflow:Trapezoidal rule is known to produce incorrect PR-AUCs; please switch to \"careful_interpolation\" instead.\n",
      "INFO:tensorflow:Done calling model_fn.\n",
      "INFO:tensorflow:Starting evaluation at 2021-06-02T08:52:33Z\n",
      "INFO:tensorflow:Graph was finalized.\n",
      "INFO:tensorflow:Restoring parameters from /var/folders/tk/n3k58pnd31x8x6f8yp8dgllr0000gn/T/tmp3k1hlcla/model.ckpt-1000\n",
      "INFO:tensorflow:Running local_init_op.\n",
      "INFO:tensorflow:Done running local_init_op.\n",
      "INFO:tensorflow:Inference Time : 0.59484s\n",
      "INFO:tensorflow:Finished evaluation at 2021-06-02-08:52:33\n",
      "INFO:tensorflow:Saving dict for global step 1000: accuracy = 0.74458873, accuracy_baseline = 0.64935064, auc = 0.80127573, auc_precision_recall = 0.6440497, average_loss = 0.5261173, global_step = 1000, label/mean = 0.35064936, loss = 5.063879, precision = 0.6666667, prediction/mean = 0.3615246, recall = 0.54320985\n",
      "INFO:tensorflow:Saving 'checkpoint_path' summary for global step 1000: /var/folders/tk/n3k58pnd31x8x6f8yp8dgllr0000gn/T/tmp3k1hlcla/model.ckpt-1000\n"
     ]
    }
   ],
   "source": [
    "results = model.evaluate(eval_input_func)"
   ]
  },
  {
   "cell_type": "code",
   "execution_count": 170,
   "id": "61e1522d",
   "metadata": {},
   "outputs": [
    {
     "data": {
      "text/plain": [
       "{'accuracy': 0.74458873,\n",
       " 'accuracy_baseline': 0.64935064,\n",
       " 'auc': 0.80127573,\n",
       " 'auc_precision_recall': 0.6440497,\n",
       " 'average_loss': 0.5261173,\n",
       " 'label/mean': 0.35064936,\n",
       " 'loss': 5.063879,\n",
       " 'precision': 0.6666667,\n",
       " 'prediction/mean': 0.3615246,\n",
       " 'recall': 0.54320985,\n",
       " 'global_step': 1000}"
      ]
     },
     "execution_count": 170,
     "metadata": {},
     "output_type": "execute_result"
    }
   ],
   "source": [
    "results"
   ]
  },
  {
   "cell_type": "code",
   "execution_count": 171,
   "id": "a6be6027",
   "metadata": {},
   "outputs": [],
   "source": [
    "pred_input_func = tf.compat.v1.estimator.inputs.pandas_input_fn(x=X_test,batch_size=10,num_epochs = 1,shuffle=False)"
   ]
  },
  {
   "cell_type": "code",
   "execution_count": 172,
   "id": "1d29b45a",
   "metadata": {},
   "outputs": [],
   "source": [
    "predictions = model.predict(pred_input_func)"
   ]
  },
  {
   "cell_type": "code",
   "execution_count": 173,
   "id": "bf5bbbf4",
   "metadata": {},
   "outputs": [
    {
     "name": "stdout",
     "output_type": "stream",
     "text": [
      "INFO:tensorflow:Calling model_fn.\n"
     ]
    },
    {
     "name": "stderr",
     "output_type": "stream",
     "text": [
      "/opt/anaconda3/lib/python3.7/site-packages/tensorflow/python/keras/engine/base_layer_v1.py:1727: UserWarning: `layer.add_variable` is deprecated and will be removed in a future version. Please use `layer.add_weight` method instead.\n",
      "  warnings.warn('`layer.add_variable` is deprecated and '\n"
     ]
    },
    {
     "name": "stdout",
     "output_type": "stream",
     "text": [
      "INFO:tensorflow:Done calling model_fn.\n",
      "INFO:tensorflow:Graph was finalized.\n",
      "INFO:tensorflow:Restoring parameters from /var/folders/tk/n3k58pnd31x8x6f8yp8dgllr0000gn/T/tmp3k1hlcla/model.ckpt-1000\n",
      "INFO:tensorflow:Running local_init_op.\n",
      "INFO:tensorflow:Done running local_init_op.\n"
     ]
    }
   ],
   "source": [
    "my_predictions = list(predictions)"
   ]
  },
  {
   "cell_type": "code",
   "execution_count": 175,
   "id": "d078df36",
   "metadata": {},
   "outputs": [
    {
     "data": {
      "text/plain": [
       "[{'logits': array([0.068887], dtype=float32),\n",
       "  'logistic': array([0.51721495], dtype=float32),\n",
       "  'probabilities': array([0.48278508, 0.51721495], dtype=float32),\n",
       "  'class_ids': array([1]),\n",
       "  'classes': array([b'1'], dtype=object),\n",
       "  'all_class_ids': array([0, 1], dtype=int32),\n",
       "  'all_classes': array([b'0', b'1'], dtype=object)},\n",
       " {'logits': array([0.54087734], dtype=float32),\n",
       "  'logistic': array([0.6320165], dtype=float32),\n",
       "  'probabilities': array([0.3679835, 0.6320165], dtype=float32),\n",
       "  'class_ids': array([1]),\n",
       "  'classes': array([b'1'], dtype=object),\n",
       "  'all_class_ids': array([0, 1], dtype=int32),\n",
       "  'all_classes': array([b'0', b'1'], dtype=object)},\n",
       " {'logits': array([-0.5853858], dtype=float32),\n",
       "  'logistic': array([0.35769427], dtype=float32),\n",
       "  'probabilities': array([0.64230573, 0.35769427], dtype=float32),\n",
       "  'class_ids': array([0]),\n",
       "  'classes': array([b'0'], dtype=object),\n",
       "  'all_class_ids': array([0, 1], dtype=int32),\n",
       "  'all_classes': array([b'0', b'1'], dtype=object)},\n",
       " {'logits': array([-0.6792148], dtype=float32),\n",
       "  'logistic': array([0.3364366], dtype=float32),\n",
       "  'probabilities': array([0.66356343, 0.33643657], dtype=float32),\n",
       "  'class_ids': array([0]),\n",
       "  'classes': array([b'0'], dtype=object),\n",
       "  'all_class_ids': array([0, 1], dtype=int32),\n",
       "  'all_classes': array([b'0', b'1'], dtype=object)},\n",
       " {'logits': array([-1.7145133], dtype=float32),\n",
       "  'logistic': array([0.15257922], dtype=float32),\n",
       "  'probabilities': array([0.84742075, 0.15257923], dtype=float32),\n",
       "  'class_ids': array([0]),\n",
       "  'classes': array([b'0'], dtype=object),\n",
       "  'all_class_ids': array([0, 1], dtype=int32),\n",
       "  'all_classes': array([b'0', b'1'], dtype=object)},\n",
       " {'logits': array([0.7285807], dtype=float32),\n",
       "  'logistic': array([0.67449373], dtype=float32),\n",
       "  'probabilities': array([0.32550624, 0.67449373], dtype=float32),\n",
       "  'class_ids': array([1]),\n",
       "  'classes': array([b'1'], dtype=object),\n",
       "  'all_class_ids': array([0, 1], dtype=int32),\n",
       "  'all_classes': array([b'0', b'1'], dtype=object)},\n",
       " {'logits': array([0.4342692], dtype=float32),\n",
       "  'logistic': array([0.60689265], dtype=float32),\n",
       "  'probabilities': array([0.39310735, 0.60689265], dtype=float32),\n",
       "  'class_ids': array([1]),\n",
       "  'classes': array([b'1'], dtype=object),\n",
       "  'all_class_ids': array([0, 1], dtype=int32),\n",
       "  'all_classes': array([b'0', b'1'], dtype=object)},\n",
       " {'logits': array([-0.74068916], dtype=float32),\n",
       "  'logistic': array([0.3228535], dtype=float32),\n",
       "  'probabilities': array([0.67714655, 0.32285348], dtype=float32),\n",
       "  'class_ids': array([0]),\n",
       "  'classes': array([b'0'], dtype=object),\n",
       "  'all_class_ids': array([0, 1], dtype=int32),\n",
       "  'all_classes': array([b'0', b'1'], dtype=object)},\n",
       " {'logits': array([-1.2078414], dtype=float32),\n",
       "  'logistic': array([0.2300832], dtype=float32),\n",
       "  'probabilities': array([0.7699168, 0.2300832], dtype=float32),\n",
       "  'class_ids': array([0]),\n",
       "  'classes': array([b'0'], dtype=object),\n",
       "  'all_class_ids': array([0, 1], dtype=int32),\n",
       "  'all_classes': array([b'0', b'1'], dtype=object)},\n",
       " {'logits': array([-1.0936757], dtype=float32),\n",
       "  'logistic': array([0.25092676], dtype=float32),\n",
       "  'probabilities': array([0.74907327, 0.25092676], dtype=float32),\n",
       "  'class_ids': array([0]),\n",
       "  'classes': array([b'0'], dtype=object),\n",
       "  'all_class_ids': array([0, 1], dtype=int32),\n",
       "  'all_classes': array([b'0', b'1'], dtype=object)},\n",
       " {'logits': array([-1.7919984], dtype=float32),\n",
       "  'logistic': array([0.14282787], dtype=float32),\n",
       "  'probabilities': array([0.85717213, 0.1428279 ], dtype=float32),\n",
       "  'class_ids': array([0]),\n",
       "  'classes': array([b'0'], dtype=object),\n",
       "  'all_class_ids': array([0, 1], dtype=int32),\n",
       "  'all_classes': array([b'0', b'1'], dtype=object)},\n",
       " {'logits': array([-1.6629794], dtype=float32),\n",
       "  'logistic': array([0.15936247], dtype=float32),\n",
       "  'probabilities': array([0.84063756, 0.15936247], dtype=float32),\n",
       "  'class_ids': array([0]),\n",
       "  'classes': array([b'0'], dtype=object),\n",
       "  'all_class_ids': array([0, 1], dtype=int32),\n",
       "  'all_classes': array([b'0', b'1'], dtype=object)},\n",
       " {'logits': array([-0.899856], dtype=float32),\n",
       "  'logistic': array([0.28908014], dtype=float32),\n",
       "  'probabilities': array([0.7109199, 0.2890801], dtype=float32),\n",
       "  'class_ids': array([0]),\n",
       "  'classes': array([b'0'], dtype=object),\n",
       "  'all_class_ids': array([0, 1], dtype=int32),\n",
       "  'all_classes': array([b'0', b'1'], dtype=object)},\n",
       " {'logits': array([0.12906861], dtype=float32),\n",
       "  'logistic': array([0.53222245], dtype=float32),\n",
       "  'probabilities': array([0.46777758, 0.53222245], dtype=float32),\n",
       "  'class_ids': array([1]),\n",
       "  'classes': array([b'1'], dtype=object),\n",
       "  'all_class_ids': array([0, 1], dtype=int32),\n",
       "  'all_classes': array([b'0', b'1'], dtype=object)},\n",
       " {'logits': array([-1.491988], dtype=float32),\n",
       "  'logistic': array([0.18362352], dtype=float32),\n",
       "  'probabilities': array([0.8163765 , 0.18362354], dtype=float32),\n",
       "  'class_ids': array([0]),\n",
       "  'classes': array([b'0'], dtype=object),\n",
       "  'all_class_ids': array([0, 1], dtype=int32),\n",
       "  'all_classes': array([b'0', b'1'], dtype=object)},\n",
       " {'logits': array([-0.7448011], dtype=float32),\n",
       "  'logistic': array([0.3219552], dtype=float32),\n",
       "  'probabilities': array([0.67804486, 0.32195517], dtype=float32),\n",
       "  'class_ids': array([0]),\n",
       "  'classes': array([b'0'], dtype=object),\n",
       "  'all_class_ids': array([0, 1], dtype=int32),\n",
       "  'all_classes': array([b'0', b'1'], dtype=object)},\n",
       " {'logits': array([-0.6001633], dtype=float32),\n",
       "  'logistic': array([0.35430634], dtype=float32),\n",
       "  'probabilities': array([0.64569366, 0.35430634], dtype=float32),\n",
       "  'class_ids': array([0]),\n",
       "  'classes': array([b'0'], dtype=object),\n",
       "  'all_class_ids': array([0, 1], dtype=int32),\n",
       "  'all_classes': array([b'0', b'1'], dtype=object)},\n",
       " {'logits': array([-1.8367124], dtype=float32),\n",
       "  'logistic': array([0.13744059], dtype=float32),\n",
       "  'probabilities': array([0.86255944, 0.13744058], dtype=float32),\n",
       "  'class_ids': array([0]),\n",
       "  'classes': array([b'0'], dtype=object),\n",
       "  'all_class_ids': array([0, 1], dtype=int32),\n",
       "  'all_classes': array([b'0', b'1'], dtype=object)},\n",
       " {'logits': array([-0.60027134], dtype=float32),\n",
       "  'logistic': array([0.35428163], dtype=float32),\n",
       "  'probabilities': array([0.6457184, 0.3542816], dtype=float32),\n",
       "  'class_ids': array([0]),\n",
       "  'classes': array([b'0'], dtype=object),\n",
       "  'all_class_ids': array([0, 1], dtype=int32),\n",
       "  'all_classes': array([b'0', b'1'], dtype=object)},\n",
       " {'logits': array([-1.7179744], dtype=float32),\n",
       "  'logistic': array([0.15213221], dtype=float32),\n",
       "  'probabilities': array([0.8478677 , 0.15213226], dtype=float32),\n",
       "  'class_ids': array([0]),\n",
       "  'classes': array([b'0'], dtype=object),\n",
       "  'all_class_ids': array([0, 1], dtype=int32),\n",
       "  'all_classes': array([b'0', b'1'], dtype=object)},\n",
       " {'logits': array([-1.3289547], dtype=float32),\n",
       "  'logistic': array([0.20933232], dtype=float32),\n",
       "  'probabilities': array([0.7906677 , 0.20933235], dtype=float32),\n",
       "  'class_ids': array([0]),\n",
       "  'classes': array([b'0'], dtype=object),\n",
       "  'all_class_ids': array([0, 1], dtype=int32),\n",
       "  'all_classes': array([b'0', b'1'], dtype=object)},\n",
       " {'logits': array([-0.95132005], dtype=float32),\n",
       "  'logistic': array([0.2786194], dtype=float32),\n",
       "  'probabilities': array([0.7213806, 0.2786194], dtype=float32),\n",
       "  'class_ids': array([0]),\n",
       "  'classes': array([b'0'], dtype=object),\n",
       "  'all_class_ids': array([0, 1], dtype=int32),\n",
       "  'all_classes': array([b'0', b'1'], dtype=object)},\n",
       " {'logits': array([0.49745226], dtype=float32),\n",
       "  'logistic': array([0.6218604], dtype=float32),\n",
       "  'probabilities': array([0.3781396 , 0.62186044], dtype=float32),\n",
       "  'class_ids': array([1]),\n",
       "  'classes': array([b'1'], dtype=object),\n",
       "  'all_class_ids': array([0, 1], dtype=int32),\n",
       "  'all_classes': array([b'0', b'1'], dtype=object)},\n",
       " {'logits': array([-1.2982448], dtype=float32),\n",
       "  'logistic': array([0.21446055], dtype=float32),\n",
       "  'probabilities': array([0.7855395 , 0.21446058], dtype=float32),\n",
       "  'class_ids': array([0]),\n",
       "  'classes': array([b'0'], dtype=object),\n",
       "  'all_class_ids': array([0, 1], dtype=int32),\n",
       "  'all_classes': array([b'0', b'1'], dtype=object)},\n",
       " {'logits': array([-1.5384369], dtype=float32),\n",
       "  'logistic': array([0.17676264], dtype=float32),\n",
       "  'probabilities': array([0.8232374 , 0.17676263], dtype=float32),\n",
       "  'class_ids': array([0]),\n",
       "  'classes': array([b'0'], dtype=object),\n",
       "  'all_class_ids': array([0, 1], dtype=int32),\n",
       "  'all_classes': array([b'0', b'1'], dtype=object)},\n",
       " {'logits': array([1.0983901], dtype=float32),\n",
       "  'logistic': array([0.7499584], dtype=float32),\n",
       "  'probabilities': array([0.25004166, 0.74995834], dtype=float32),\n",
       "  'class_ids': array([1]),\n",
       "  'classes': array([b'1'], dtype=object),\n",
       "  'all_class_ids': array([0, 1], dtype=int32),\n",
       "  'all_classes': array([b'0', b'1'], dtype=object)},\n",
       " {'logits': array([-1.5789194], dtype=float32),\n",
       "  'logistic': array([0.17094857], dtype=float32),\n",
       "  'probabilities': array([0.82905143, 0.17094858], dtype=float32),\n",
       "  'class_ids': array([0]),\n",
       "  'classes': array([b'0'], dtype=object),\n",
       "  'all_class_ids': array([0, 1], dtype=int32),\n",
       "  'all_classes': array([b'0', b'1'], dtype=object)},\n",
       " {'logits': array([-0.7478074], dtype=float32),\n",
       "  'logistic': array([0.32129925], dtype=float32),\n",
       "  'probabilities': array([0.67870075, 0.32129923], dtype=float32),\n",
       "  'class_ids': array([0]),\n",
       "  'classes': array([b'0'], dtype=object),\n",
       "  'all_class_ids': array([0, 1], dtype=int32),\n",
       "  'all_classes': array([b'0', b'1'], dtype=object)},\n",
       " {'logits': array([-2.0502944], dtype=float32),\n",
       "  'logistic': array([0.11402261], dtype=float32),\n",
       "  'probabilities': array([0.8859773 , 0.11402263], dtype=float32),\n",
       "  'class_ids': array([0]),\n",
       "  'classes': array([b'0'], dtype=object),\n",
       "  'all_class_ids': array([0, 1], dtype=int32),\n",
       "  'all_classes': array([b'0', b'1'], dtype=object)},\n",
       " {'logits': array([0.19534743], dtype=float32),\n",
       "  'logistic': array([0.54868215], dtype=float32),\n",
       "  'probabilities': array([0.45131785, 0.54868215], dtype=float32),\n",
       "  'class_ids': array([1]),\n",
       "  'classes': array([b'1'], dtype=object),\n",
       "  'all_class_ids': array([0, 1], dtype=int32),\n",
       "  'all_classes': array([b'0', b'1'], dtype=object)},\n",
       " {'logits': array([2.6141322], dtype=float32),\n",
       "  'logistic': array([0.93176556], dtype=float32),\n",
       "  'probabilities': array([0.06823441, 0.93176556], dtype=float32),\n",
       "  'class_ids': array([1]),\n",
       "  'classes': array([b'1'], dtype=object),\n",
       "  'all_class_ids': array([0, 1], dtype=int32),\n",
       "  'all_classes': array([b'0', b'1'], dtype=object)},\n",
       " {'logits': array([-0.34468782], dtype=float32),\n",
       "  'logistic': array([0.4146712], dtype=float32),\n",
       "  'probabilities': array([0.5853288, 0.4146712], dtype=float32),\n",
       "  'class_ids': array([0]),\n",
       "  'classes': array([b'0'], dtype=object),\n",
       "  'all_class_ids': array([0, 1], dtype=int32),\n",
       "  'all_classes': array([b'0', b'1'], dtype=object)},\n",
       " {'logits': array([-0.7286394], dtype=float32),\n",
       "  'logistic': array([0.3254934], dtype=float32),\n",
       "  'probabilities': array([0.6745066 , 0.32549334], dtype=float32),\n",
       "  'class_ids': array([0]),\n",
       "  'classes': array([b'0'], dtype=object),\n",
       "  'all_class_ids': array([0, 1], dtype=int32),\n",
       "  'all_classes': array([b'0', b'1'], dtype=object)},\n",
       " {'logits': array([0.11636734], dtype=float32),\n",
       "  'logistic': array([0.52905905], dtype=float32),\n",
       "  'probabilities': array([0.47094095, 0.52905905], dtype=float32),\n",
       "  'class_ids': array([1]),\n",
       "  'classes': array([b'1'], dtype=object),\n",
       "  'all_class_ids': array([0, 1], dtype=int32),\n",
       "  'all_classes': array([b'0', b'1'], dtype=object)},\n",
       " {'logits': array([-1.1759917], dtype=float32),\n",
       "  'logistic': array([0.23577368], dtype=float32),\n",
       "  'probabilities': array([0.7642263 , 0.23577367], dtype=float32),\n",
       "  'class_ids': array([0]),\n",
       "  'classes': array([b'0'], dtype=object),\n",
       "  'all_class_ids': array([0, 1], dtype=int32),\n",
       "  'all_classes': array([b'0', b'1'], dtype=object)},\n",
       " {'logits': array([-0.5640585], dtype=float32),\n",
       "  'logistic': array([0.36260894], dtype=float32),\n",
       "  'probabilities': array([0.63739103, 0.3626089 ], dtype=float32),\n",
       "  'class_ids': array([0]),\n",
       "  'classes': array([b'0'], dtype=object),\n",
       "  'all_class_ids': array([0, 1], dtype=int32),\n",
       "  'all_classes': array([b'0', b'1'], dtype=object)},\n",
       " {'logits': array([-0.12817448], dtype=float32),\n",
       "  'logistic': array([0.46800017], dtype=float32),\n",
       "  'probabilities': array([0.5319998 , 0.46800017], dtype=float32),\n",
       "  'class_ids': array([0]),\n",
       "  'classes': array([b'0'], dtype=object),\n",
       "  'all_class_ids': array([0, 1], dtype=int32),\n",
       "  'all_classes': array([b'0', b'1'], dtype=object)},\n",
       " {'logits': array([0.39581335], dtype=float32),\n",
       "  'logistic': array([0.59768134], dtype=float32),\n",
       "  'probabilities': array([0.40231863, 0.59768134], dtype=float32),\n",
       "  'class_ids': array([1]),\n",
       "  'classes': array([b'1'], dtype=object),\n",
       "  'all_class_ids': array([0, 1], dtype=int32),\n",
       "  'all_classes': array([b'0', b'1'], dtype=object)},\n",
       " {'logits': array([1.0548761], dtype=float32),\n",
       "  'logistic': array([0.7417101], dtype=float32),\n",
       "  'probabilities': array([0.25828984, 0.7417101 ], dtype=float32),\n",
       "  'class_ids': array([1]),\n",
       "  'classes': array([b'1'], dtype=object),\n",
       "  'all_class_ids': array([0, 1], dtype=int32),\n",
       "  'all_classes': array([b'0', b'1'], dtype=object)},\n",
       " {'logits': array([-0.60746396], dtype=float32),\n",
       "  'logistic': array([0.35263795], dtype=float32),\n",
       "  'probabilities': array([0.64736205, 0.35263792], dtype=float32),\n",
       "  'class_ids': array([0]),\n",
       "  'classes': array([b'0'], dtype=object),\n",
       "  'all_class_ids': array([0, 1], dtype=int32),\n",
       "  'all_classes': array([b'0', b'1'], dtype=object)},\n",
       " {'logits': array([-1.5499203], dtype=float32),\n",
       "  'logistic': array([0.17509776], dtype=float32),\n",
       "  'probabilities': array([0.82490224, 0.1750978 ], dtype=float32),\n",
       "  'class_ids': array([0]),\n",
       "  'classes': array([b'0'], dtype=object),\n",
       "  'all_class_ids': array([0, 1], dtype=int32),\n",
       "  'all_classes': array([b'0', b'1'], dtype=object)},\n",
       " {'logits': array([0.21241283], dtype=float32),\n",
       "  'logistic': array([0.5529044], dtype=float32),\n",
       "  'probabilities': array([0.44709557, 0.5529044 ], dtype=float32),\n",
       "  'class_ids': array([1]),\n",
       "  'classes': array([b'1'], dtype=object),\n",
       "  'all_class_ids': array([0, 1], dtype=int32),\n",
       "  'all_classes': array([b'0', b'1'], dtype=object)},\n",
       " {'logits': array([-1.7124419], dtype=float32),\n",
       "  'logistic': array([0.15284723], dtype=float32),\n",
       "  'probabilities': array([0.8471527 , 0.15284725], dtype=float32),\n",
       "  'class_ids': array([0]),\n",
       "  'classes': array([b'0'], dtype=object),\n",
       "  'all_class_ids': array([0, 1], dtype=int32),\n",
       "  'all_classes': array([b'0', b'1'], dtype=object)},\n",
       " {'logits': array([0.0367232], dtype=float32),\n",
       "  'logistic': array([0.5091798], dtype=float32),\n",
       "  'probabilities': array([0.49082026, 0.5091798 ], dtype=float32),\n",
       "  'class_ids': array([1]),\n",
       "  'classes': array([b'1'], dtype=object),\n",
       "  'all_class_ids': array([0, 1], dtype=int32),\n",
       "  'all_classes': array([b'0', b'1'], dtype=object)},\n",
       " {'logits': array([-1.8051031], dtype=float32),\n",
       "  'logistic': array([0.141231], dtype=float32),\n",
       "  'probabilities': array([0.85876894, 0.14123099], dtype=float32),\n",
       "  'class_ids': array([0]),\n",
       "  'classes': array([b'0'], dtype=object),\n",
       "  'all_class_ids': array([0, 1], dtype=int32),\n",
       "  'all_classes': array([b'0', b'1'], dtype=object)},\n",
       " {'logits': array([-1.945715], dtype=float32),\n",
       "  'logistic': array([0.12502134], dtype=float32),\n",
       "  'probabilities': array([0.8749787 , 0.12502135], dtype=float32),\n",
       "  'class_ids': array([0]),\n",
       "  'classes': array([b'0'], dtype=object),\n",
       "  'all_class_ids': array([0, 1], dtype=int32),\n",
       "  'all_classes': array([b'0', b'1'], dtype=object)},\n",
       " {'logits': array([0.3923918], dtype=float32),\n",
       "  'logistic': array([0.5968583], dtype=float32),\n",
       "  'probabilities': array([0.40314168, 0.5968584 ], dtype=float32),\n",
       "  'class_ids': array([1]),\n",
       "  'classes': array([b'1'], dtype=object),\n",
       "  'all_class_ids': array([0, 1], dtype=int32),\n",
       "  'all_classes': array([b'0', b'1'], dtype=object)},\n",
       " {'logits': array([-1.4720782], dtype=float32),\n",
       "  'logistic': array([0.18662694], dtype=float32),\n",
       "  'probabilities': array([0.813373  , 0.18662694], dtype=float32),\n",
       "  'class_ids': array([0]),\n",
       "  'classes': array([b'0'], dtype=object),\n",
       "  'all_class_ids': array([0, 1], dtype=int32),\n",
       "  'all_classes': array([b'0', b'1'], dtype=object)},\n",
       " {'logits': array([-1.4406426], dtype=float32),\n",
       "  'logistic': array([0.19144589], dtype=float32),\n",
       "  'probabilities': array([0.8085542 , 0.19144587], dtype=float32),\n",
       "  'class_ids': array([0]),\n",
       "  'classes': array([b'0'], dtype=object),\n",
       "  'all_class_ids': array([0, 1], dtype=int32),\n",
       "  'all_classes': array([b'0', b'1'], dtype=object)},\n",
       " {'logits': array([-1.8271046], dtype=float32),\n",
       "  'logistic': array([0.13858351], dtype=float32),\n",
       "  'probabilities': array([0.86141646, 0.13858356], dtype=float32),\n",
       "  'class_ids': array([0]),\n",
       "  'classes': array([b'0'], dtype=object),\n",
       "  'all_class_ids': array([0, 1], dtype=int32),\n",
       "  'all_classes': array([b'0', b'1'], dtype=object)},\n",
       " {'logits': array([-1.4979649], dtype=float32),\n",
       "  'logistic': array([0.18272924], dtype=float32),\n",
       "  'probabilities': array([0.8172707 , 0.18272924], dtype=float32),\n",
       "  'class_ids': array([0]),\n",
       "  'classes': array([b'0'], dtype=object),\n",
       "  'all_class_ids': array([0, 1], dtype=int32),\n",
       "  'all_classes': array([b'0', b'1'], dtype=object)},\n",
       " {'logits': array([-1.0960088], dtype=float32),\n",
       "  'logistic': array([0.2504885], dtype=float32),\n",
       "  'probabilities': array([0.74951154, 0.25048846], dtype=float32),\n",
       "  'class_ids': array([0]),\n",
       "  'classes': array([b'0'], dtype=object),\n",
       "  'all_class_ids': array([0, 1], dtype=int32),\n",
       "  'all_classes': array([b'0', b'1'], dtype=object)},\n",
       " {'logits': array([-1.0224787], dtype=float32),\n",
       "  'logistic': array([0.2645449], dtype=float32),\n",
       "  'probabilities': array([0.73545516, 0.26454484], dtype=float32),\n",
       "  'class_ids': array([0]),\n",
       "  'classes': array([b'0'], dtype=object),\n",
       "  'all_class_ids': array([0, 1], dtype=int32),\n",
       "  'all_classes': array([b'0', b'1'], dtype=object)},\n",
       " {'logits': array([-0.5570276], dtype=float32),\n",
       "  'logistic': array([0.36423552], dtype=float32),\n",
       "  'probabilities': array([0.6357645, 0.3642355], dtype=float32),\n",
       "  'class_ids': array([0]),\n",
       "  'classes': array([b'0'], dtype=object),\n",
       "  'all_class_ids': array([0, 1], dtype=int32),\n",
       "  'all_classes': array([b'0', b'1'], dtype=object)},\n",
       " {'logits': array([-1.8916209], dtype=float32),\n",
       "  'logistic': array([0.1310598], dtype=float32),\n",
       "  'probabilities': array([0.86894023, 0.13105977], dtype=float32),\n",
       "  'class_ids': array([0]),\n",
       "  'classes': array([b'0'], dtype=object),\n",
       "  'all_class_ids': array([0, 1], dtype=int32),\n",
       "  'all_classes': array([b'0', b'1'], dtype=object)},\n",
       " {'logits': array([-1.2061905], dtype=float32),\n",
       "  'logistic': array([0.2303758], dtype=float32),\n",
       "  'probabilities': array([0.7696242, 0.2303758], dtype=float32),\n",
       "  'class_ids': array([0]),\n",
       "  'classes': array([b'0'], dtype=object),\n",
       "  'all_class_ids': array([0, 1], dtype=int32),\n",
       "  'all_classes': array([b'0', b'1'], dtype=object)},\n",
       " {'logits': array([-1.2920218], dtype=float32),\n",
       "  'logistic': array([0.21551082], dtype=float32),\n",
       "  'probabilities': array([0.7844892 , 0.21551082], dtype=float32),\n",
       "  'class_ids': array([0]),\n",
       "  'classes': array([b'0'], dtype=object),\n",
       "  'all_class_ids': array([0, 1], dtype=int32),\n",
       "  'all_classes': array([b'0', b'1'], dtype=object)},\n",
       " {'logits': array([-1.3331562], dtype=float32),\n",
       "  'logistic': array([0.20863774], dtype=float32),\n",
       "  'probabilities': array([0.7913622 , 0.20863777], dtype=float32),\n",
       "  'class_ids': array([0]),\n",
       "  'classes': array([b'0'], dtype=object),\n",
       "  'all_class_ids': array([0, 1], dtype=int32),\n",
       "  'all_classes': array([b'0', b'1'], dtype=object)},\n",
       " {'logits': array([-0.20068932], dtype=float32),\n",
       "  'logistic': array([0.4499954], dtype=float32),\n",
       "  'probabilities': array([0.55000466, 0.44999543], dtype=float32),\n",
       "  'class_ids': array([0]),\n",
       "  'classes': array([b'0'], dtype=object),\n",
       "  'all_class_ids': array([0, 1], dtype=int32),\n",
       "  'all_classes': array([b'0', b'1'], dtype=object)},\n",
       " {'logits': array([-1.5610976], dtype=float32),\n",
       "  'logistic': array([0.17348918], dtype=float32),\n",
       "  'probabilities': array([0.82651085, 0.17348921], dtype=float32),\n",
       "  'class_ids': array([0]),\n",
       "  'classes': array([b'0'], dtype=object),\n",
       "  'all_class_ids': array([0, 1], dtype=int32),\n",
       "  'all_classes': array([b'0', b'1'], dtype=object)},\n",
       " {'logits': array([-1.2626063], dtype=float32),\n",
       "  'logistic': array([0.22052556], dtype=float32),\n",
       "  'probabilities': array([0.77947444, 0.22052556], dtype=float32),\n",
       "  'class_ids': array([0]),\n",
       "  'classes': array([b'0'], dtype=object),\n",
       "  'all_class_ids': array([0, 1], dtype=int32),\n",
       "  'all_classes': array([b'0', b'1'], dtype=object)},\n",
       " {'logits': array([0.3790834], dtype=float32),\n",
       "  'logistic': array([0.593652], dtype=float32),\n",
       "  'probabilities': array([0.406348, 0.593652], dtype=float32),\n",
       "  'class_ids': array([1]),\n",
       "  'classes': array([b'1'], dtype=object),\n",
       "  'all_class_ids': array([0, 1], dtype=int32),\n",
       "  'all_classes': array([b'0', b'1'], dtype=object)},\n",
       " {'logits': array([0.43094373], dtype=float32),\n",
       "  'logistic': array([0.606099], dtype=float32),\n",
       "  'probabilities': array([0.39390102, 0.606099  ], dtype=float32),\n",
       "  'class_ids': array([1]),\n",
       "  'classes': array([b'1'], dtype=object),\n",
       "  'all_class_ids': array([0, 1], dtype=int32),\n",
       "  'all_classes': array([b'0', b'1'], dtype=object)},\n",
       " {'logits': array([0.02197504], dtype=float32),\n",
       "  'logistic': array([0.5054935], dtype=float32),\n",
       "  'probabilities': array([0.49450648, 0.5054936 ], dtype=float32),\n",
       "  'class_ids': array([1]),\n",
       "  'classes': array([b'1'], dtype=object),\n",
       "  'all_class_ids': array([0, 1], dtype=int32),\n",
       "  'all_classes': array([b'0', b'1'], dtype=object)},\n",
       " {'logits': array([-0.54571134], dtype=float32),\n",
       "  'logistic': array([0.36686], dtype=float32),\n",
       "  'probabilities': array([0.63314   , 0.36685997], dtype=float32),\n",
       "  'class_ids': array([0]),\n",
       "  'classes': array([b'0'], dtype=object),\n",
       "  'all_class_ids': array([0, 1], dtype=int32),\n",
       "  'all_classes': array([b'0', b'1'], dtype=object)},\n",
       " {'logits': array([-0.10875052], dtype=float32),\n",
       "  'logistic': array([0.47283915], dtype=float32),\n",
       "  'probabilities': array([0.5271609 , 0.47283915], dtype=float32),\n",
       "  'class_ids': array([0]),\n",
       "  'classes': array([b'0'], dtype=object),\n",
       "  'all_class_ids': array([0, 1], dtype=int32),\n",
       "  'all_classes': array([b'0', b'1'], dtype=object)},\n",
       " {'logits': array([-1.4107301], dtype=float32),\n",
       "  'logistic': array([0.19611892], dtype=float32),\n",
       "  'probabilities': array([0.80388105, 0.1961189 ], dtype=float32),\n",
       "  'class_ids': array([0]),\n",
       "  'classes': array([b'0'], dtype=object),\n",
       "  'all_class_ids': array([0, 1], dtype=int32),\n",
       "  'all_classes': array([b'0', b'1'], dtype=object)},\n",
       " {'logits': array([-1.4184585], dtype=float32),\n",
       "  'logistic': array([0.19490334], dtype=float32),\n",
       "  'probabilities': array([0.8050967 , 0.19490337], dtype=float32),\n",
       "  'class_ids': array([0]),\n",
       "  'classes': array([b'0'], dtype=object),\n",
       "  'all_class_ids': array([0, 1], dtype=int32),\n",
       "  'all_classes': array([b'0', b'1'], dtype=object)},\n",
       " {'logits': array([-1.7694646], dtype=float32),\n",
       "  'logistic': array([0.1456089], dtype=float32),\n",
       "  'probabilities': array([0.85439104, 0.14560892], dtype=float32),\n",
       "  'class_ids': array([0]),\n",
       "  'classes': array([b'0'], dtype=object),\n",
       "  'all_class_ids': array([0, 1], dtype=int32),\n",
       "  'all_classes': array([b'0', b'1'], dtype=object)},\n",
       " {'logits': array([-1.9020294], dtype=float32),\n",
       "  'logistic': array([0.12987894], dtype=float32),\n",
       "  'probabilities': array([0.870121  , 0.12987895], dtype=float32),\n",
       "  'class_ids': array([0]),\n",
       "  'classes': array([b'0'], dtype=object),\n",
       "  'all_class_ids': array([0, 1], dtype=int32),\n",
       "  'all_classes': array([b'0', b'1'], dtype=object)},\n",
       " {'logits': array([0.4623829], dtype=float32),\n",
       "  'logistic': array([0.6135793], dtype=float32),\n",
       "  'probabilities': array([0.3864207 , 0.61357933], dtype=float32),\n",
       "  'class_ids': array([1]),\n",
       "  'classes': array([b'1'], dtype=object),\n",
       "  'all_class_ids': array([0, 1], dtype=int32),\n",
       "  'all_classes': array([b'0', b'1'], dtype=object)},\n",
       " {'logits': array([-1.226115], dtype=float32),\n",
       "  'logistic': array([0.2268621], dtype=float32),\n",
       "  'probabilities': array([0.77313787, 0.22686212], dtype=float32),\n",
       "  'class_ids': array([0]),\n",
       "  'classes': array([b'0'], dtype=object),\n",
       "  'all_class_ids': array([0, 1], dtype=int32),\n",
       "  'all_classes': array([b'0', b'1'], dtype=object)},\n",
       " {'logits': array([-0.21750528], dtype=float32),\n",
       "  'logistic': array([0.44583705], dtype=float32),\n",
       "  'probabilities': array([0.554163  , 0.44583705], dtype=float32),\n",
       "  'class_ids': array([0]),\n",
       "  'classes': array([b'0'], dtype=object),\n",
       "  'all_class_ids': array([0, 1], dtype=int32),\n",
       "  'all_classes': array([b'0', b'1'], dtype=object)},\n",
       " {'logits': array([0.25961256], dtype=float32),\n",
       "  'logistic': array([0.56454104], dtype=float32),\n",
       "  'probabilities': array([0.43545896, 0.56454104], dtype=float32),\n",
       "  'class_ids': array([1]),\n",
       "  'classes': array([b'1'], dtype=object),\n",
       "  'all_class_ids': array([0, 1], dtype=int32),\n",
       "  'all_classes': array([b'0', b'1'], dtype=object)},\n",
       " {'logits': array([-0.92183787], dtype=float32),\n",
       "  'logistic': array([0.28458357], dtype=float32),\n",
       "  'probabilities': array([0.71541643, 0.28458354], dtype=float32),\n",
       "  'class_ids': array([0]),\n",
       "  'classes': array([b'0'], dtype=object),\n",
       "  'all_class_ids': array([0, 1], dtype=int32),\n",
       "  'all_classes': array([b'0', b'1'], dtype=object)},\n",
       " {'logits': array([0.42184985], dtype=float32),\n",
       "  'logistic': array([0.6039258], dtype=float32),\n",
       "  'probabilities': array([0.3960742, 0.6039258], dtype=float32),\n",
       "  'class_ids': array([1]),\n",
       "  'classes': array([b'1'], dtype=object),\n",
       "  'all_class_ids': array([0, 1], dtype=int32),\n",
       "  'all_classes': array([b'0', b'1'], dtype=object)},\n",
       " {'logits': array([-1.8688123], dtype=float32),\n",
       "  'logistic': array([0.13367921], dtype=float32),\n",
       "  'probabilities': array([0.86632085, 0.13367921], dtype=float32),\n",
       "  'class_ids': array([0]),\n",
       "  'classes': array([b'0'], dtype=object),\n",
       "  'all_class_ids': array([0, 1], dtype=int32),\n",
       "  'all_classes': array([b'0', b'1'], dtype=object)},\n",
       " {'logits': array([0.373294], dtype=float32),\n",
       "  'logistic': array([0.5922547], dtype=float32),\n",
       "  'probabilities': array([0.40774533, 0.5922547 ], dtype=float32),\n",
       "  'class_ids': array([1]),\n",
       "  'classes': array([b'1'], dtype=object),\n",
       "  'all_class_ids': array([0, 1], dtype=int32),\n",
       "  'all_classes': array([b'0', b'1'], dtype=object)},\n",
       " {'logits': array([-1.8326359], dtype=float32),\n",
       "  'logistic': array([0.13792458], dtype=float32),\n",
       "  'probabilities': array([0.86207545, 0.13792457], dtype=float32),\n",
       "  'class_ids': array([0]),\n",
       "  'classes': array([b'0'], dtype=object),\n",
       "  'all_class_ids': array([0, 1], dtype=int32),\n",
       "  'all_classes': array([b'0', b'1'], dtype=object)},\n",
       " {'logits': array([0.2637763], dtype=float32),\n",
       "  'logistic': array([0.56556433], dtype=float32),\n",
       "  'probabilities': array([0.43443567, 0.5655644 ], dtype=float32),\n",
       "  'class_ids': array([1]),\n",
       "  'classes': array([b'1'], dtype=object),\n",
       "  'all_class_ids': array([0, 1], dtype=int32),\n",
       "  'all_classes': array([b'0', b'1'], dtype=object)},\n",
       " {'logits': array([-0.7608644], dtype=float32),\n",
       "  'logistic': array([0.31845865], dtype=float32),\n",
       "  'probabilities': array([0.6815414 , 0.31845865], dtype=float32),\n",
       "  'class_ids': array([0]),\n",
       "  'classes': array([b'0'], dtype=object),\n",
       "  'all_class_ids': array([0, 1], dtype=int32),\n",
       "  'all_classes': array([b'0', b'1'], dtype=object)},\n",
       " {'logits': array([-1.641271], dtype=float32),\n",
       "  'logistic': array([0.16229215], dtype=float32),\n",
       "  'probabilities': array([0.83770776, 0.16229218], dtype=float32),\n",
       "  'class_ids': array([0]),\n",
       "  'classes': array([b'0'], dtype=object),\n",
       "  'all_class_ids': array([0, 1], dtype=int32),\n",
       "  'all_classes': array([b'0', b'1'], dtype=object)},\n",
       " {'logits': array([0.18753779], dtype=float32),\n",
       "  'logistic': array([0.5467475], dtype=float32),\n",
       "  'probabilities': array([0.45325246, 0.5467475 ], dtype=float32),\n",
       "  'class_ids': array([1]),\n",
       "  'classes': array([b'1'], dtype=object),\n",
       "  'all_class_ids': array([0, 1], dtype=int32),\n",
       "  'all_classes': array([b'0', b'1'], dtype=object)},\n",
       " {'logits': array([0.38294375], dtype=float32),\n",
       "  'logistic': array([0.5945829], dtype=float32),\n",
       "  'probabilities': array([0.4054171, 0.5945829], dtype=float32),\n",
       "  'class_ids': array([1]),\n",
       "  'classes': array([b'1'], dtype=object),\n",
       "  'all_class_ids': array([0, 1], dtype=int32),\n",
       "  'all_classes': array([b'0', b'1'], dtype=object)},\n",
       " {'logits': array([0.11413908], dtype=float32),\n",
       "  'logistic': array([0.52850384], dtype=float32),\n",
       "  'probabilities': array([0.4714962 , 0.52850384], dtype=float32),\n",
       "  'class_ids': array([1]),\n",
       "  'classes': array([b'1'], dtype=object),\n",
       "  'all_class_ids': array([0, 1], dtype=int32),\n",
       "  'all_classes': array([b'0', b'1'], dtype=object)},\n",
       " {'logits': array([-1.6353451], dtype=float32),\n",
       "  'logistic': array([0.16309941], dtype=float32),\n",
       "  'probabilities': array([0.83690053, 0.16309945], dtype=float32),\n",
       "  'class_ids': array([0]),\n",
       "  'classes': array([b'0'], dtype=object),\n",
       "  'all_class_ids': array([0, 1], dtype=int32),\n",
       "  'all_classes': array([b'0', b'1'], dtype=object)},\n",
       " {'logits': array([-0.58154094], dtype=float32),\n",
       "  'logistic': array([0.35857812], dtype=float32),\n",
       "  'probabilities': array([0.6414219 , 0.35857812], dtype=float32),\n",
       "  'class_ids': array([0]),\n",
       "  'classes': array([b'0'], dtype=object),\n",
       "  'all_class_ids': array([0, 1], dtype=int32),\n",
       "  'all_classes': array([b'0', b'1'], dtype=object)},\n",
       " {'logits': array([-1.6930189], dtype=float32),\n",
       "  'logistic': array([0.1553792], dtype=float32),\n",
       "  'probabilities': array([0.84462076, 0.15537924], dtype=float32),\n",
       "  'class_ids': array([0]),\n",
       "  'classes': array([b'0'], dtype=object),\n",
       "  'all_class_ids': array([0, 1], dtype=int32),\n",
       "  'all_classes': array([b'0', b'1'], dtype=object)},\n",
       " {'logits': array([0.7057339], dtype=float32),\n",
       "  'logistic': array([0.6694578], dtype=float32),\n",
       "  'probabilities': array([0.33054218, 0.66945785], dtype=float32),\n",
       "  'class_ids': array([1]),\n",
       "  'classes': array([b'1'], dtype=object),\n",
       "  'all_class_ids': array([0, 1], dtype=int32),\n",
       "  'all_classes': array([b'0', b'1'], dtype=object)},\n",
       " {'logits': array([1.3254566], dtype=float32),\n",
       "  'logistic': array([0.7900881], dtype=float32),\n",
       "  'probabilities': array([0.2099119, 0.7900881], dtype=float32),\n",
       "  'class_ids': array([1]),\n",
       "  'classes': array([b'1'], dtype=object),\n",
       "  'all_class_ids': array([0, 1], dtype=int32),\n",
       "  'all_classes': array([b'0', b'1'], dtype=object)},\n",
       " {'logits': array([0.42093897], dtype=float32),\n",
       "  'logistic': array([0.6037079], dtype=float32),\n",
       "  'probabilities': array([0.3962921, 0.6037079], dtype=float32),\n",
       "  'class_ids': array([1]),\n",
       "  'classes': array([b'1'], dtype=object),\n",
       "  'all_class_ids': array([0, 1], dtype=int32),\n",
       "  'all_classes': array([b'0', b'1'], dtype=object)},\n",
       " {'logits': array([-1.2970482], dtype=float32),\n",
       "  'logistic': array([0.21466222], dtype=float32),\n",
       "  'probabilities': array([0.7853378 , 0.21466221], dtype=float32),\n",
       "  'class_ids': array([0]),\n",
       "  'classes': array([b'0'], dtype=object),\n",
       "  'all_class_ids': array([0, 1], dtype=int32),\n",
       "  'all_classes': array([b'0', b'1'], dtype=object)},\n",
       " {'logits': array([-0.12530583], dtype=float32),\n",
       "  'logistic': array([0.46871448], dtype=float32),\n",
       "  'probabilities': array([0.5312855 , 0.46871448], dtype=float32),\n",
       "  'class_ids': array([0]),\n",
       "  'classes': array([b'0'], dtype=object),\n",
       "  'all_class_ids': array([0, 1], dtype=int32),\n",
       "  'all_classes': array([b'0', b'1'], dtype=object)},\n",
       " {'logits': array([-0.45285374], dtype=float32),\n",
       "  'logistic': array([0.38868248], dtype=float32),\n",
       "  'probabilities': array([0.6113175 , 0.38868245], dtype=float32),\n",
       "  'class_ids': array([0]),\n",
       "  'classes': array([b'0'], dtype=object),\n",
       "  'all_class_ids': array([0, 1], dtype=int32),\n",
       "  'all_classes': array([b'0', b'1'], dtype=object)},\n",
       " {'logits': array([-0.27699327], dtype=float32),\n",
       "  'logistic': array([0.4311911], dtype=float32),\n",
       "  'probabilities': array([0.5688089 , 0.43119106], dtype=float32),\n",
       "  'class_ids': array([0]),\n",
       "  'classes': array([b'0'], dtype=object),\n",
       "  'all_class_ids': array([0, 1], dtype=int32),\n",
       "  'all_classes': array([b'0', b'1'], dtype=object)},\n",
       " {'logits': array([-0.5248408], dtype=float32),\n",
       "  'logistic': array([0.37172103], dtype=float32),\n",
       "  'probabilities': array([0.62827903, 0.371721  ], dtype=float32),\n",
       "  'class_ids': array([0]),\n",
       "  'classes': array([b'0'], dtype=object),\n",
       "  'all_class_ids': array([0, 1], dtype=int32),\n",
       "  'all_classes': array([b'0', b'1'], dtype=object)},\n",
       " {'logits': array([-0.31696314], dtype=float32),\n",
       "  'logistic': array([0.42141604], dtype=float32),\n",
       "  'probabilities': array([0.57858396, 0.421416  ], dtype=float32),\n",
       "  'class_ids': array([0]),\n",
       "  'classes': array([b'0'], dtype=object),\n",
       "  'all_class_ids': array([0, 1], dtype=int32),\n",
       "  'all_classes': array([b'0', b'1'], dtype=object)},\n",
       " {'logits': array([-1.707031], dtype=float32),\n",
       "  'logistic': array([0.1535492], dtype=float32),\n",
       "  'probabilities': array([0.84645075, 0.1535492 ], dtype=float32),\n",
       "  'class_ids': array([0]),\n",
       "  'classes': array([b'0'], dtype=object),\n",
       "  'all_class_ids': array([0, 1], dtype=int32),\n",
       "  'all_classes': array([b'0', b'1'], dtype=object)},\n",
       " {'logits': array([0.1609999], dtype=float32),\n",
       "  'logistic': array([0.5401633], dtype=float32),\n",
       "  'probabilities': array([0.45983675, 0.5401633 ], dtype=float32),\n",
       "  'class_ids': array([1]),\n",
       "  'classes': array([b'1'], dtype=object),\n",
       "  'all_class_ids': array([0, 1], dtype=int32),\n",
       "  'all_classes': array([b'0', b'1'], dtype=object)},\n",
       " {'logits': array([0.09808123], dtype=float32),\n",
       "  'logistic': array([0.52450067], dtype=float32),\n",
       "  'probabilities': array([0.47549933, 0.52450067], dtype=float32),\n",
       "  'class_ids': array([1]),\n",
       "  'classes': array([b'1'], dtype=object),\n",
       "  'all_class_ids': array([0, 1], dtype=int32),\n",
       "  'all_classes': array([b'0', b'1'], dtype=object)},\n",
       " {'logits': array([-1.1456479], dtype=float32),\n",
       "  'logistic': array([0.24128494], dtype=float32),\n",
       "  'probabilities': array([0.7587151, 0.2412849], dtype=float32),\n",
       "  'class_ids': array([0]),\n",
       "  'classes': array([b'0'], dtype=object),\n",
       "  'all_class_ids': array([0, 1], dtype=int32),\n",
       "  'all_classes': array([b'0', b'1'], dtype=object)},\n",
       " {'logits': array([-1.5550976], dtype=float32),\n",
       "  'logistic': array([0.17435125], dtype=float32),\n",
       "  'probabilities': array([0.8256488 , 0.17435125], dtype=float32),\n",
       "  'class_ids': array([0]),\n",
       "  'classes': array([b'0'], dtype=object),\n",
       "  'all_class_ids': array([0, 1], dtype=int32),\n",
       "  'all_classes': array([b'0', b'1'], dtype=object)},\n",
       " {'logits': array([-1.6047858], dtype=float32),\n",
       "  'logistic': array([0.16731381], dtype=float32),\n",
       "  'probabilities': array([0.8326862, 0.1673138], dtype=float32),\n",
       "  'class_ids': array([0]),\n",
       "  'classes': array([b'0'], dtype=object),\n",
       "  'all_class_ids': array([0, 1], dtype=int32),\n",
       "  'all_classes': array([b'0', b'1'], dtype=object)},\n",
       " {'logits': array([-0.92596215], dtype=float32),\n",
       "  'logistic': array([0.28374463], dtype=float32),\n",
       "  'probabilities': array([0.71625537, 0.28374463], dtype=float32),\n",
       "  'class_ids': array([0]),\n",
       "  'classes': array([b'0'], dtype=object),\n",
       "  'all_class_ids': array([0, 1], dtype=int32),\n",
       "  'all_classes': array([b'0', b'1'], dtype=object)},\n",
       " {'logits': array([-0.5328535], dtype=float32),\n",
       "  'logistic': array([0.36985162], dtype=float32),\n",
       "  'probabilities': array([0.6301484, 0.3698516], dtype=float32),\n",
       "  'class_ids': array([0]),\n",
       "  'classes': array([b'0'], dtype=object),\n",
       "  'all_class_ids': array([0, 1], dtype=int32),\n",
       "  'all_classes': array([b'0', b'1'], dtype=object)},\n",
       " {'logits': array([-1.8228667], dtype=float32),\n",
       "  'logistic': array([0.13909027], dtype=float32),\n",
       "  'probabilities': array([0.86090976, 0.13909025], dtype=float32),\n",
       "  'class_ids': array([0]),\n",
       "  'classes': array([b'0'], dtype=object),\n",
       "  'all_class_ids': array([0, 1], dtype=int32),\n",
       "  'all_classes': array([b'0', b'1'], dtype=object)},\n",
       " {'logits': array([-0.6843945], dtype=float32),\n",
       "  'logistic': array([0.3352812], dtype=float32),\n",
       "  'probabilities': array([0.6647188, 0.3352812], dtype=float32),\n",
       "  'class_ids': array([0]),\n",
       "  'classes': array([b'0'], dtype=object),\n",
       "  'all_class_ids': array([0, 1], dtype=int32),\n",
       "  'all_classes': array([b'0', b'1'], dtype=object)},\n",
       " {'logits': array([-1.1566409], dtype=float32),\n",
       "  'logistic': array([0.2392782], dtype=float32),\n",
       "  'probabilities': array([0.7607218 , 0.23927818], dtype=float32),\n",
       "  'class_ids': array([0]),\n",
       "  'classes': array([b'0'], dtype=object),\n",
       "  'all_class_ids': array([0, 1], dtype=int32),\n",
       "  'all_classes': array([b'0', b'1'], dtype=object)},\n",
       " {'logits': array([-2.158505], dtype=float32),\n",
       "  'logistic': array([0.10353911], dtype=float32),\n",
       "  'probabilities': array([0.89646083, 0.10353913], dtype=float32),\n",
       "  'class_ids': array([0]),\n",
       "  'classes': array([b'0'], dtype=object),\n",
       "  'all_class_ids': array([0, 1], dtype=int32),\n",
       "  'all_classes': array([b'0', b'1'], dtype=object)},\n",
       " {'logits': array([-1.8269008], dtype=float32),\n",
       "  'logistic': array([0.13860786], dtype=float32),\n",
       "  'probabilities': array([0.86139214, 0.13860789], dtype=float32),\n",
       "  'class_ids': array([0]),\n",
       "  'classes': array([b'0'], dtype=object),\n",
       "  'all_class_ids': array([0, 1], dtype=int32),\n",
       "  'all_classes': array([b'0', b'1'], dtype=object)},\n",
       " {'logits': array([1.0213282], dtype=float32),\n",
       "  'logistic': array([0.7352312], dtype=float32),\n",
       "  'probabilities': array([0.26476878, 0.7352313 ], dtype=float32),\n",
       "  'class_ids': array([1]),\n",
       "  'classes': array([b'1'], dtype=object),\n",
       "  'all_class_ids': array([0, 1], dtype=int32),\n",
       "  'all_classes': array([b'0', b'1'], dtype=object)},\n",
       " {'logits': array([-1.5564549], dtype=float32),\n",
       "  'logistic': array([0.17415595], dtype=float32),\n",
       "  'probabilities': array([0.8258441 , 0.17415595], dtype=float32),\n",
       "  'class_ids': array([0]),\n",
       "  'classes': array([b'0'], dtype=object),\n",
       "  'all_class_ids': array([0, 1], dtype=int32),\n",
       "  'all_classes': array([b'0', b'1'], dtype=object)},\n",
       " {'logits': array([-1.8811451], dtype=float32),\n",
       "  'logistic': array([0.1322574], dtype=float32),\n",
       "  'probabilities': array([0.8677426, 0.1322574], dtype=float32),\n",
       "  'class_ids': array([0]),\n",
       "  'classes': array([b'0'], dtype=object),\n",
       "  'all_class_ids': array([0, 1], dtype=int32),\n",
       "  'all_classes': array([b'0', b'1'], dtype=object)},\n",
       " {'logits': array([-1.6908693], dtype=float32),\n",
       "  'logistic': array([0.15566152], dtype=float32),\n",
       "  'probabilities': array([0.8443384 , 0.15566155], dtype=float32),\n",
       "  'class_ids': array([0]),\n",
       "  'classes': array([b'0'], dtype=object),\n",
       "  'all_class_ids': array([0, 1], dtype=int32),\n",
       "  'all_classes': array([b'0', b'1'], dtype=object)},\n",
       " {'logits': array([-0.08227563], dtype=float32),\n",
       "  'logistic': array([0.4794427], dtype=float32),\n",
       "  'probabilities': array([0.5205573 , 0.47944266], dtype=float32),\n",
       "  'class_ids': array([0]),\n",
       "  'classes': array([b'0'], dtype=object),\n",
       "  'all_class_ids': array([0, 1], dtype=int32),\n",
       "  'all_classes': array([b'0', b'1'], dtype=object)},\n",
       " {'logits': array([-0.28058404], dtype=float32),\n",
       "  'logistic': array([0.4303106], dtype=float32),\n",
       "  'probabilities': array([0.5696894, 0.4303106], dtype=float32),\n",
       "  'class_ids': array([0]),\n",
       "  'classes': array([b'0'], dtype=object),\n",
       "  'all_class_ids': array([0, 1], dtype=int32),\n",
       "  'all_classes': array([b'0', b'1'], dtype=object)},\n",
       " {'logits': array([-1.1829631], dtype=float32),\n",
       "  'logistic': array([0.23451984], dtype=float32),\n",
       "  'probabilities': array([0.76548016, 0.23451982], dtype=float32),\n",
       "  'class_ids': array([0]),\n",
       "  'classes': array([b'0'], dtype=object),\n",
       "  'all_class_ids': array([0, 1], dtype=int32),\n",
       "  'all_classes': array([b'0', b'1'], dtype=object)},\n",
       " {'logits': array([-0.19596541], dtype=float32),\n",
       "  'logistic': array([0.45116484], dtype=float32),\n",
       "  'probabilities': array([0.54883516, 0.4511648 ], dtype=float32),\n",
       "  'class_ids': array([0]),\n",
       "  'classes': array([b'0'], dtype=object),\n",
       "  'all_class_ids': array([0, 1], dtype=int32),\n",
       "  'all_classes': array([b'0', b'1'], dtype=object)},\n",
       " {'logits': array([-1.4735066], dtype=float32),\n",
       "  'logistic': array([0.18641025], dtype=float32),\n",
       "  'probabilities': array([0.8135898 , 0.18641022], dtype=float32),\n",
       "  'class_ids': array([0]),\n",
       "  'classes': array([b'0'], dtype=object),\n",
       "  'all_class_ids': array([0, 1], dtype=int32),\n",
       "  'all_classes': array([b'0', b'1'], dtype=object)},\n",
       " {'logits': array([-1.161495], dtype=float32),\n",
       "  'logistic': array([0.23839575], dtype=float32),\n",
       "  'probabilities': array([0.76160425, 0.23839575], dtype=float32),\n",
       "  'class_ids': array([0]),\n",
       "  'classes': array([b'0'], dtype=object),\n",
       "  'all_class_ids': array([0, 1], dtype=int32),\n",
       "  'all_classes': array([b'0', b'1'], dtype=object)},\n",
       " {'logits': array([-0.00426221], dtype=float32),\n",
       "  'logistic': array([0.49893445], dtype=float32),\n",
       "  'probabilities': array([0.50106555, 0.49893445], dtype=float32),\n",
       "  'class_ids': array([0]),\n",
       "  'classes': array([b'0'], dtype=object),\n",
       "  'all_class_ids': array([0, 1], dtype=int32),\n",
       "  'all_classes': array([b'0', b'1'], dtype=object)},\n",
       " {'logits': array([-0.1050368], dtype=float32),\n",
       "  'logistic': array([0.47376493], dtype=float32),\n",
       "  'probabilities': array([0.52623504, 0.47376487], dtype=float32),\n",
       "  'class_ids': array([0]),\n",
       "  'classes': array([b'0'], dtype=object),\n",
       "  'all_class_ids': array([0, 1], dtype=int32),\n",
       "  'all_classes': array([b'0', b'1'], dtype=object)},\n",
       " {'logits': array([-1.8350195], dtype=float32),\n",
       "  'logistic': array([0.1376414], dtype=float32),\n",
       "  'probabilities': array([0.8623586, 0.1376414], dtype=float32),\n",
       "  'class_ids': array([0]),\n",
       "  'classes': array([b'0'], dtype=object),\n",
       "  'all_class_ids': array([0, 1], dtype=int32),\n",
       "  'all_classes': array([b'0', b'1'], dtype=object)},\n",
       " {'logits': array([-0.41354084], dtype=float32),\n",
       "  'logistic': array([0.39806342], dtype=float32),\n",
       "  'probabilities': array([0.60193664, 0.39806342], dtype=float32),\n",
       "  'class_ids': array([0]),\n",
       "  'classes': array([b'0'], dtype=object),\n",
       "  'all_class_ids': array([0, 1], dtype=int32),\n",
       "  'all_classes': array([b'0', b'1'], dtype=object)},\n",
       " {'logits': array([0.61864495], dtype=float32),\n",
       "  'logistic': array([0.6499103], dtype=float32),\n",
       "  'probabilities': array([0.3500897, 0.6499103], dtype=float32),\n",
       "  'class_ids': array([1]),\n",
       "  'classes': array([b'1'], dtype=object),\n",
       "  'all_class_ids': array([0, 1], dtype=int32),\n",
       "  'all_classes': array([b'0', b'1'], dtype=object)},\n",
       " {'logits': array([0.10116339], dtype=float32),\n",
       "  'logistic': array([0.52526927], dtype=float32),\n",
       "  'probabilities': array([0.47473073, 0.5252693 ], dtype=float32),\n",
       "  'class_ids': array([1]),\n",
       "  'classes': array([b'1'], dtype=object),\n",
       "  'all_class_ids': array([0, 1], dtype=int32),\n",
       "  'all_classes': array([b'0', b'1'], dtype=object)},\n",
       " {'logits': array([-0.4776129], dtype=float32),\n",
       "  'logistic': array([0.38281596], dtype=float32),\n",
       "  'probabilities': array([0.61718404, 0.382816  ], dtype=float32),\n",
       "  'class_ids': array([0]),\n",
       "  'classes': array([b'0'], dtype=object),\n",
       "  'all_class_ids': array([0, 1], dtype=int32),\n",
       "  'all_classes': array([b'0', b'1'], dtype=object)},\n",
       " {'logits': array([0.34822834], dtype=float32),\n",
       "  'logistic': array([0.5861879], dtype=float32),\n",
       "  'probabilities': array([0.41381213, 0.5861879 ], dtype=float32),\n",
       "  'class_ids': array([1]),\n",
       "  'classes': array([b'1'], dtype=object),\n",
       "  'all_class_ids': array([0, 1], dtype=int32),\n",
       "  'all_classes': array([b'0', b'1'], dtype=object)},\n",
       " {'logits': array([-1.196708], dtype=float32),\n",
       "  'logistic': array([0.23206139], dtype=float32),\n",
       "  'probabilities': array([0.7679386 , 0.23206136], dtype=float32),\n",
       "  'class_ids': array([0]),\n",
       "  'classes': array([b'0'], dtype=object),\n",
       "  'all_class_ids': array([0, 1], dtype=int32),\n",
       "  'all_classes': array([b'0', b'1'], dtype=object)},\n",
       " {'logits': array([-1.4416311], dtype=float32),\n",
       "  'logistic': array([0.19129291], dtype=float32),\n",
       "  'probabilities': array([0.8087071, 0.1912929], dtype=float32),\n",
       "  'class_ids': array([0]),\n",
       "  'classes': array([b'0'], dtype=object),\n",
       "  'all_class_ids': array([0, 1], dtype=int32),\n",
       "  'all_classes': array([b'0', b'1'], dtype=object)},\n",
       " {'logits': array([-1.8604637], dtype=float32),\n",
       "  'logistic': array([0.13464895], dtype=float32),\n",
       "  'probabilities': array([0.865351  , 0.13464901], dtype=float32),\n",
       "  'class_ids': array([0]),\n",
       "  'classes': array([b'0'], dtype=object),\n",
       "  'all_class_ids': array([0, 1], dtype=int32),\n",
       "  'all_classes': array([b'0', b'1'], dtype=object)},\n",
       " {'logits': array([-1.0116258], dtype=float32),\n",
       "  'logistic': array([0.26666182], dtype=float32),\n",
       "  'probabilities': array([0.7333382, 0.2666618], dtype=float32),\n",
       "  'class_ids': array([0]),\n",
       "  'classes': array([b'0'], dtype=object),\n",
       "  'all_class_ids': array([0, 1], dtype=int32),\n",
       "  'all_classes': array([b'0', b'1'], dtype=object)},\n",
       " {'logits': array([0.01828498], dtype=float32),\n",
       "  'logistic': array([0.50457114], dtype=float32),\n",
       "  'probabilities': array([0.49542892, 0.50457114], dtype=float32),\n",
       "  'class_ids': array([1]),\n",
       "  'classes': array([b'1'], dtype=object),\n",
       "  'all_class_ids': array([0, 1], dtype=int32),\n",
       "  'all_classes': array([b'0', b'1'], dtype=object)},\n",
       " {'logits': array([0.6094986], dtype=float32),\n",
       "  'logistic': array([0.64782643], dtype=float32),\n",
       "  'probabilities': array([0.35217357, 0.6478264 ], dtype=float32),\n",
       "  'class_ids': array([1]),\n",
       "  'classes': array([b'1'], dtype=object),\n",
       "  'all_class_ids': array([0, 1], dtype=int32),\n",
       "  'all_classes': array([b'0', b'1'], dtype=object)},\n",
       " {'logits': array([-1.1323994], dtype=float32),\n",
       "  'logistic': array([0.24371856], dtype=float32),\n",
       "  'probabilities': array([0.75628144, 0.24371858], dtype=float32),\n",
       "  'class_ids': array([0]),\n",
       "  'classes': array([b'0'], dtype=object),\n",
       "  'all_class_ids': array([0, 1], dtype=int32),\n",
       "  'all_classes': array([b'0', b'1'], dtype=object)},\n",
       " {'logits': array([-1.5906656], dtype=float32),\n",
       "  'logistic': array([0.16929027], dtype=float32),\n",
       "  'probabilities': array([0.8307097 , 0.16929026], dtype=float32),\n",
       "  'class_ids': array([0]),\n",
       "  'classes': array([b'0'], dtype=object),\n",
       "  'all_class_ids': array([0, 1], dtype=int32),\n",
       "  'all_classes': array([b'0', b'1'], dtype=object)},\n",
       " {'logits': array([-0.28482425], dtype=float32),\n",
       "  'logistic': array([0.42927146], dtype=float32),\n",
       "  'probabilities': array([0.57072854, 0.42927143], dtype=float32),\n",
       "  'class_ids': array([0]),\n",
       "  'classes': array([b'0'], dtype=object),\n",
       "  'all_class_ids': array([0, 1], dtype=int32),\n",
       "  'all_classes': array([b'0', b'1'], dtype=object)},\n",
       " {'logits': array([-1.2631404], dtype=float32),\n",
       "  'logistic': array([0.22043377], dtype=float32),\n",
       "  'probabilities': array([0.7795662 , 0.22043374], dtype=float32),\n",
       "  'class_ids': array([0]),\n",
       "  'classes': array([b'0'], dtype=object),\n",
       "  'all_class_ids': array([0, 1], dtype=int32),\n",
       "  'all_classes': array([b'0', b'1'], dtype=object)},\n",
       " {'logits': array([-1.7891536], dtype=float32),\n",
       "  'logistic': array([0.1431765], dtype=float32),\n",
       "  'probabilities': array([0.8568235 , 0.14317653], dtype=float32),\n",
       "  'class_ids': array([0]),\n",
       "  'classes': array([b'0'], dtype=object),\n",
       "  'all_class_ids': array([0, 1], dtype=int32),\n",
       "  'all_classes': array([b'0', b'1'], dtype=object)},\n",
       " {'logits': array([-1.4359965], dtype=float32),\n",
       "  'logistic': array([0.19216609], dtype=float32),\n",
       "  'probabilities': array([0.8078339 , 0.19216606], dtype=float32),\n",
       "  'class_ids': array([0]),\n",
       "  'classes': array([b'0'], dtype=object),\n",
       "  'all_class_ids': array([0, 1], dtype=int32),\n",
       "  'all_classes': array([b'0', b'1'], dtype=object)},\n",
       " {'logits': array([-1.8375459], dtype=float32),\n",
       "  'logistic': array([0.13734183], dtype=float32),\n",
       "  'probabilities': array([0.8626582, 0.1373418], dtype=float32),\n",
       "  'class_ids': array([0]),\n",
       "  'classes': array([b'0'], dtype=object),\n",
       "  'all_class_ids': array([0, 1], dtype=int32),\n",
       "  'all_classes': array([b'0', b'1'], dtype=object)},\n",
       " {'logits': array([-0.42676878], dtype=float32),\n",
       "  'logistic': array([0.3948982], dtype=float32),\n",
       "  'probabilities': array([0.6051018 , 0.39489818], dtype=float32),\n",
       "  'class_ids': array([0]),\n",
       "  'classes': array([b'0'], dtype=object),\n",
       "  'all_class_ids': array([0, 1], dtype=int32),\n",
       "  'all_classes': array([b'0', b'1'], dtype=object)},\n",
       " {'logits': array([1.1074181], dtype=float32),\n",
       "  'logistic': array([0.7516475], dtype=float32),\n",
       "  'probabilities': array([0.24835256, 0.7516475 ], dtype=float32),\n",
       "  'class_ids': array([1]),\n",
       "  'classes': array([b'1'], dtype=object),\n",
       "  'all_class_ids': array([0, 1], dtype=int32),\n",
       "  'all_classes': array([b'0', b'1'], dtype=object)},\n",
       " {'logits': array([1.0970199], dtype=float32),\n",
       "  'logistic': array([0.74970126], dtype=float32),\n",
       "  'probabilities': array([0.25029868, 0.7497013 ], dtype=float32),\n",
       "  'class_ids': array([1]),\n",
       "  'classes': array([b'1'], dtype=object),\n",
       "  'all_class_ids': array([0, 1], dtype=int32),\n",
       "  'all_classes': array([b'0', b'1'], dtype=object)},\n",
       " {'logits': array([0.01369268], dtype=float32),\n",
       "  'logistic': array([0.5034231], dtype=float32),\n",
       "  'probabilities': array([0.49657694, 0.50342315], dtype=float32),\n",
       "  'class_ids': array([1]),\n",
       "  'classes': array([b'1'], dtype=object),\n",
       "  'all_class_ids': array([0, 1], dtype=int32),\n",
       "  'all_classes': array([b'0', b'1'], dtype=object)},\n",
       " {'logits': array([0.03206807], dtype=float32),\n",
       "  'logistic': array([0.50801635], dtype=float32),\n",
       "  'probabilities': array([0.49198368, 0.50801635], dtype=float32),\n",
       "  'class_ids': array([1]),\n",
       "  'classes': array([b'1'], dtype=object),\n",
       "  'all_class_ids': array([0, 1], dtype=int32),\n",
       "  'all_classes': array([b'0', b'1'], dtype=object)},\n",
       " {'logits': array([0.24785519], dtype=float32),\n",
       "  'logistic': array([0.5616485], dtype=float32),\n",
       "  'probabilities': array([0.43835148, 0.5616485 ], dtype=float32),\n",
       "  'class_ids': array([1]),\n",
       "  'classes': array([b'1'], dtype=object),\n",
       "  'all_class_ids': array([0, 1], dtype=int32),\n",
       "  'all_classes': array([b'0', b'1'], dtype=object)},\n",
       " {'logits': array([-2.0538015], dtype=float32),\n",
       "  'logistic': array([0.11366883], dtype=float32),\n",
       "  'probabilities': array([0.8863312 , 0.11366882], dtype=float32),\n",
       "  'class_ids': array([0]),\n",
       "  'classes': array([b'0'], dtype=object),\n",
       "  'all_class_ids': array([0, 1], dtype=int32),\n",
       "  'all_classes': array([b'0', b'1'], dtype=object)},\n",
       " {'logits': array([0.1639936], dtype=float32),\n",
       "  'logistic': array([0.5409068], dtype=float32),\n",
       "  'probabilities': array([0.45909318, 0.5409067 ], dtype=float32),\n",
       "  'class_ids': array([1]),\n",
       "  'classes': array([b'1'], dtype=object),\n",
       "  'all_class_ids': array([0, 1], dtype=int32),\n",
       "  'all_classes': array([b'0', b'1'], dtype=object)},\n",
       " {'logits': array([1.1259325], dtype=float32),\n",
       "  'logistic': array([0.7550875], dtype=float32),\n",
       "  'probabilities': array([0.24491253, 0.7550875 ], dtype=float32),\n",
       "  'class_ids': array([1]),\n",
       "  'classes': array([b'1'], dtype=object),\n",
       "  'all_class_ids': array([0, 1], dtype=int32),\n",
       "  'all_classes': array([b'0', b'1'], dtype=object)},\n",
       " {'logits': array([-0.35617757], dtype=float32),\n",
       "  'logistic': array([0.4118852], dtype=float32),\n",
       "  'probabilities': array([0.5881148 , 0.41188517], dtype=float32),\n",
       "  'class_ids': array([0]),\n",
       "  'classes': array([b'0'], dtype=object),\n",
       "  'all_class_ids': array([0, 1], dtype=int32),\n",
       "  'all_classes': array([b'0', b'1'], dtype=object)},\n",
       " {'logits': array([-1.0735413], dtype=float32),\n",
       "  'logistic': array([0.25473022], dtype=float32),\n",
       "  'probabilities': array([0.74526983, 0.25473022], dtype=float32),\n",
       "  'class_ids': array([0]),\n",
       "  'classes': array([b'0'], dtype=object),\n",
       "  'all_class_ids': array([0, 1], dtype=int32),\n",
       "  'all_classes': array([b'0', b'1'], dtype=object)},\n",
       " {'logits': array([-0.7280203], dtype=float32),\n",
       "  'logistic': array([0.3256293], dtype=float32),\n",
       "  'probabilities': array([0.6743707 , 0.32562932], dtype=float32),\n",
       "  'class_ids': array([0]),\n",
       "  'classes': array([b'0'], dtype=object),\n",
       "  'all_class_ids': array([0, 1], dtype=int32),\n",
       "  'all_classes': array([b'0', b'1'], dtype=object)},\n",
       " {'logits': array([0.2663797], dtype=float32),\n",
       "  'logistic': array([0.5662039], dtype=float32),\n",
       "  'probabilities': array([0.4337961 , 0.56620395], dtype=float32),\n",
       "  'class_ids': array([1]),\n",
       "  'classes': array([b'1'], dtype=object),\n",
       "  'all_class_ids': array([0, 1], dtype=int32),\n",
       "  'all_classes': array([b'0', b'1'], dtype=object)},\n",
       " {'logits': array([-1.229614], dtype=float32),\n",
       "  'logistic': array([0.22624898], dtype=float32),\n",
       "  'probabilities': array([0.773751, 0.226249], dtype=float32),\n",
       "  'class_ids': array([0]),\n",
       "  'classes': array([b'0'], dtype=object),\n",
       "  'all_class_ids': array([0, 1], dtype=int32),\n",
       "  'all_classes': array([b'0', b'1'], dtype=object)},\n",
       " {'logits': array([0.5069053], dtype=float32),\n",
       "  'logistic': array([0.6240807], dtype=float32),\n",
       "  'probabilities': array([0.37591925, 0.6240807 ], dtype=float32),\n",
       "  'class_ids': array([1]),\n",
       "  'classes': array([b'1'], dtype=object),\n",
       "  'all_class_ids': array([0, 1], dtype=int32),\n",
       "  'all_classes': array([b'0', b'1'], dtype=object)},\n",
       " {'logits': array([-0.2769519], dtype=float32),\n",
       "  'logistic': array([0.43120122], dtype=float32),\n",
       "  'probabilities': array([0.5687988 , 0.43120122], dtype=float32),\n",
       "  'class_ids': array([0]),\n",
       "  'classes': array([b'0'], dtype=object),\n",
       "  'all_class_ids': array([0, 1], dtype=int32),\n",
       "  'all_classes': array([b'0', b'1'], dtype=object)},\n",
       " {'logits': array([-0.31307572], dtype=float32),\n",
       "  'logistic': array([0.42236418], dtype=float32),\n",
       "  'probabilities': array([0.5776358 , 0.42236418], dtype=float32),\n",
       "  'class_ids': array([0]),\n",
       "  'classes': array([b'0'], dtype=object),\n",
       "  'all_class_ids': array([0, 1], dtype=int32),\n",
       "  'all_classes': array([b'0', b'1'], dtype=object)},\n",
       " {'logits': array([-1.6999502], dtype=float32),\n",
       "  'logistic': array([0.15447176], dtype=float32),\n",
       "  'probabilities': array([0.8455282 , 0.15447176], dtype=float32),\n",
       "  'class_ids': array([0]),\n",
       "  'classes': array([b'0'], dtype=object),\n",
       "  'all_class_ids': array([0, 1], dtype=int32),\n",
       "  'all_classes': array([b'0', b'1'], dtype=object)},\n",
       " {'logits': array([-1.4466529], dtype=float32),\n",
       "  'logistic': array([0.19051722], dtype=float32),\n",
       "  'probabilities': array([0.8094828 , 0.19051723], dtype=float32),\n",
       "  'class_ids': array([0]),\n",
       "  'classes': array([b'0'], dtype=object),\n",
       "  'all_class_ids': array([0, 1], dtype=int32),\n",
       "  'all_classes': array([b'0', b'1'], dtype=object)},\n",
       " {'logits': array([-1.452706], dtype=float32),\n",
       "  'logistic': array([0.18958548], dtype=float32),\n",
       "  'probabilities': array([0.8104145 , 0.18958545], dtype=float32),\n",
       "  'class_ids': array([0]),\n",
       "  'classes': array([b'0'], dtype=object),\n",
       "  'all_class_ids': array([0, 1], dtype=int32),\n",
       "  'all_classes': array([b'0', b'1'], dtype=object)},\n",
       " {'logits': array([-0.2958815], dtype=float32),\n",
       "  'logistic': array([0.4265646], dtype=float32),\n",
       "  'probabilities': array([0.5734354, 0.4265646], dtype=float32),\n",
       "  'class_ids': array([0]),\n",
       "  'classes': array([b'0'], dtype=object),\n",
       "  'all_class_ids': array([0, 1], dtype=int32),\n",
       "  'all_classes': array([b'0', b'1'], dtype=object)},\n",
       " {'logits': array([-1.7535572], dtype=float32),\n",
       "  'logistic': array([0.1475991], dtype=float32),\n",
       "  'probabilities': array([0.85240096, 0.1475991 ], dtype=float32),\n",
       "  'class_ids': array([0]),\n",
       "  'classes': array([b'0'], dtype=object),\n",
       "  'all_class_ids': array([0, 1], dtype=int32),\n",
       "  'all_classes': array([b'0', b'1'], dtype=object)},\n",
       " {'logits': array([0.8551593], dtype=float32),\n",
       "  'logistic': array([0.7016483], dtype=float32),\n",
       "  'probabilities': array([0.2983517, 0.7016483], dtype=float32),\n",
       "  'class_ids': array([1]),\n",
       "  'classes': array([b'1'], dtype=object),\n",
       "  'all_class_ids': array([0, 1], dtype=int32),\n",
       "  'all_classes': array([b'0', b'1'], dtype=object)},\n",
       " {'logits': array([-1.4723146], dtype=float32),\n",
       "  'logistic': array([0.18659109], dtype=float32),\n",
       "  'probabilities': array([0.8134089 , 0.18659106], dtype=float32),\n",
       "  'class_ids': array([0]),\n",
       "  'classes': array([b'0'], dtype=object),\n",
       "  'all_class_ids': array([0, 1], dtype=int32),\n",
       "  'all_classes': array([b'0', b'1'], dtype=object)},\n",
       " {'logits': array([-0.0435999], dtype=float32),\n",
       "  'logistic': array([0.48910174], dtype=float32),\n",
       "  'probabilities': array([0.51089823, 0.48910174], dtype=float32),\n",
       "  'class_ids': array([0]),\n",
       "  'classes': array([b'0'], dtype=object),\n",
       "  'all_class_ids': array([0, 1], dtype=int32),\n",
       "  'all_classes': array([b'0', b'1'], dtype=object)},\n",
       " {'logits': array([-1.7098982], dtype=float32),\n",
       "  'logistic': array([0.15317693], dtype=float32),\n",
       "  'probabilities': array([0.84682304, 0.1531769 ], dtype=float32),\n",
       "  'class_ids': array([0]),\n",
       "  'classes': array([b'0'], dtype=object),\n",
       "  'all_class_ids': array([0, 1], dtype=int32),\n",
       "  'all_classes': array([b'0', b'1'], dtype=object)},\n",
       " {'logits': array([0.6449076], dtype=float32),\n",
       "  'logistic': array([0.655862], dtype=float32),\n",
       "  'probabilities': array([0.344138, 0.655862], dtype=float32),\n",
       "  'class_ids': array([1]),\n",
       "  'classes': array([b'1'], dtype=object),\n",
       "  'all_class_ids': array([0, 1], dtype=int32),\n",
       "  'all_classes': array([b'0', b'1'], dtype=object)},\n",
       " {'logits': array([-0.843116], dtype=float32),\n",
       "  'logistic': array([0.30087894], dtype=float32),\n",
       "  'probabilities': array([0.69912106, 0.3008789 ], dtype=float32),\n",
       "  'class_ids': array([0]),\n",
       "  'classes': array([b'0'], dtype=object),\n",
       "  'all_class_ids': array([0, 1], dtype=int32),\n",
       "  'all_classes': array([b'0', b'1'], dtype=object)},\n",
       " {'logits': array([-1.3569486], dtype=float32),\n",
       "  'logistic': array([0.20473668], dtype=float32),\n",
       "  'probabilities': array([0.79526335, 0.2047367 ], dtype=float32),\n",
       "  'class_ids': array([0]),\n",
       "  'classes': array([b'0'], dtype=object),\n",
       "  'all_class_ids': array([0, 1], dtype=int32),\n",
       "  'all_classes': array([b'0', b'1'], dtype=object)},\n",
       " {'logits': array([-0.7106048], dtype=float32),\n",
       "  'logistic': array([0.32946527], dtype=float32),\n",
       "  'probabilities': array([0.6705348 , 0.32946524], dtype=float32),\n",
       "  'class_ids': array([0]),\n",
       "  'classes': array([b'0'], dtype=object),\n",
       "  'all_class_ids': array([0, 1], dtype=int32),\n",
       "  'all_classes': array([b'0', b'1'], dtype=object)},\n",
       " {'logits': array([-0.69933426], dtype=float32),\n",
       "  'logistic': array([0.33195987], dtype=float32),\n",
       "  'probabilities': array([0.66804016, 0.33195984], dtype=float32),\n",
       "  'class_ids': array([0]),\n",
       "  'classes': array([b'0'], dtype=object),\n",
       "  'all_class_ids': array([0, 1], dtype=int32),\n",
       "  'all_classes': array([b'0', b'1'], dtype=object)},\n",
       " {'logits': array([-1.5116544], dtype=float32),\n",
       "  'logistic': array([0.18069375], dtype=float32),\n",
       "  'probabilities': array([0.81930625, 0.18069375], dtype=float32),\n",
       "  'class_ids': array([0]),\n",
       "  'classes': array([b'0'], dtype=object),\n",
       "  'all_class_ids': array([0, 1], dtype=int32),\n",
       "  'all_classes': array([b'0', b'1'], dtype=object)},\n",
       " {'logits': array([0.8451618], dtype=float32),\n",
       "  'logistic': array([0.6995512], dtype=float32),\n",
       "  'probabilities': array([0.30044875, 0.6995512 ], dtype=float32),\n",
       "  'class_ids': array([1]),\n",
       "  'classes': array([b'1'], dtype=object),\n",
       "  'all_class_ids': array([0, 1], dtype=int32),\n",
       "  'all_classes': array([b'0', b'1'], dtype=object)},\n",
       " {'logits': array([-1.3810993], dtype=float32),\n",
       "  'logistic': array([0.20083252], dtype=float32),\n",
       "  'probabilities': array([0.7991675 , 0.20083249], dtype=float32),\n",
       "  'class_ids': array([0]),\n",
       "  'classes': array([b'0'], dtype=object),\n",
       "  'all_class_ids': array([0, 1], dtype=int32),\n",
       "  'all_classes': array([b'0', b'1'], dtype=object)},\n",
       " {'logits': array([-1.4887865], dtype=float32),\n",
       "  'logistic': array([0.18410394], dtype=float32),\n",
       "  'probabilities': array([0.8158961 , 0.18410395], dtype=float32),\n",
       "  'class_ids': array([0]),\n",
       "  'classes': array([b'0'], dtype=object),\n",
       "  'all_class_ids': array([0, 1], dtype=int32),\n",
       "  'all_classes': array([b'0', b'1'], dtype=object)},\n",
       " {'logits': array([-0.9126846], dtype=float32),\n",
       "  'logistic': array([0.2864508], dtype=float32),\n",
       "  'probabilities': array([0.7135492 , 0.28645077], dtype=float32),\n",
       "  'class_ids': array([0]),\n",
       "  'classes': array([b'0'], dtype=object),\n",
       "  'all_class_ids': array([0, 1], dtype=int32),\n",
       "  'all_classes': array([b'0', b'1'], dtype=object)},\n",
       " {'logits': array([-0.21508718], dtype=float32),\n",
       "  'logistic': array([0.44643456], dtype=float32),\n",
       "  'probabilities': array([0.55356544, 0.44643453], dtype=float32),\n",
       "  'class_ids': array([0]),\n",
       "  'classes': array([b'0'], dtype=object),\n",
       "  'all_class_ids': array([0, 1], dtype=int32),\n",
       "  'all_classes': array([b'0', b'1'], dtype=object)},\n",
       " {'logits': array([-1.0602974], dtype=float32),\n",
       "  'logistic': array([0.25725263], dtype=float32),\n",
       "  'probabilities': array([0.74274737, 0.25725263], dtype=float32),\n",
       "  'class_ids': array([0]),\n",
       "  'classes': array([b'0'], dtype=object),\n",
       "  'all_class_ids': array([0, 1], dtype=int32),\n",
       "  'all_classes': array([b'0', b'1'], dtype=object)},\n",
       " {'logits': array([-1.8860073], dtype=float32),\n",
       "  'logistic': array([0.13170037], dtype=float32),\n",
       "  'probabilities': array([0.8682996 , 0.13170038], dtype=float32),\n",
       "  'class_ids': array([0]),\n",
       "  'classes': array([b'0'], dtype=object),\n",
       "  'all_class_ids': array([0, 1], dtype=int32),\n",
       "  'all_classes': array([b'0', b'1'], dtype=object)},\n",
       " {'logits': array([1.5548716], dtype=float32),\n",
       "  'logistic': array([0.82561624], dtype=float32),\n",
       "  'probabilities': array([0.17438377, 0.82561624], dtype=float32),\n",
       "  'class_ids': array([1]),\n",
       "  'classes': array([b'1'], dtype=object),\n",
       "  'all_class_ids': array([0, 1], dtype=int32),\n",
       "  'all_classes': array([b'0', b'1'], dtype=object)},\n",
       " {'logits': array([0.5188031], dtype=float32),\n",
       "  'logistic': array([0.62686783], dtype=float32),\n",
       "  'probabilities': array([0.37313217, 0.6268679 ], dtype=float32),\n",
       "  'class_ids': array([1]),\n",
       "  'classes': array([b'1'], dtype=object),\n",
       "  'all_class_ids': array([0, 1], dtype=int32),\n",
       "  'all_classes': array([b'0', b'1'], dtype=object)},\n",
       " {'logits': array([-0.05163747], dtype=float32),\n",
       "  'logistic': array([0.4870935], dtype=float32),\n",
       "  'probabilities': array([0.5129065, 0.4870935], dtype=float32),\n",
       "  'class_ids': array([0]),\n",
       "  'classes': array([b'0'], dtype=object),\n",
       "  'all_class_ids': array([0, 1], dtype=int32),\n",
       "  'all_classes': array([b'0', b'1'], dtype=object)},\n",
       " {'logits': array([0.9454565], dtype=float32),\n",
       "  'logistic': array([0.72020054], dtype=float32),\n",
       "  'probabilities': array([0.2797995 , 0.72020054], dtype=float32),\n",
       "  'class_ids': array([1]),\n",
       "  'classes': array([b'1'], dtype=object),\n",
       "  'all_class_ids': array([0, 1], dtype=int32),\n",
       "  'all_classes': array([b'0', b'1'], dtype=object)},\n",
       " {'logits': array([-1.8739167], dtype=float32),\n",
       "  'logistic': array([0.13308913], dtype=float32),\n",
       "  'probabilities': array([0.8669108 , 0.13308917], dtype=float32),\n",
       "  'class_ids': array([0]),\n",
       "  'classes': array([b'0'], dtype=object),\n",
       "  'all_class_ids': array([0, 1], dtype=int32),\n",
       "  'all_classes': array([b'0', b'1'], dtype=object)},\n",
       " {'logits': array([-1.7941747], dtype=float32),\n",
       "  'logistic': array([0.14256161], dtype=float32),\n",
       "  'probabilities': array([0.8574383 , 0.14256166], dtype=float32),\n",
       "  'class_ids': array([0]),\n",
       "  'classes': array([b'0'], dtype=object),\n",
       "  'all_class_ids': array([0, 1], dtype=int32),\n",
       "  'all_classes': array([b'0', b'1'], dtype=object)},\n",
       " {'logits': array([-1.2420657], dtype=float32),\n",
       "  'logistic': array([0.2240766], dtype=float32),\n",
       "  'probabilities': array([0.7759233 , 0.22407661], dtype=float32),\n",
       "  'class_ids': array([0]),\n",
       "  'classes': array([b'0'], dtype=object),\n",
       "  'all_class_ids': array([0, 1], dtype=int32),\n",
       "  'all_classes': array([b'0', b'1'], dtype=object)},\n",
       " {'logits': array([-0.6961684], dtype=float32),\n",
       "  'logistic': array([0.33266228], dtype=float32),\n",
       "  'probabilities': array([0.6673377 , 0.33266228], dtype=float32),\n",
       "  'class_ids': array([0]),\n",
       "  'classes': array([b'0'], dtype=object),\n",
       "  'all_class_ids': array([0, 1], dtype=int32),\n",
       "  'all_classes': array([b'0', b'1'], dtype=object)},\n",
       " {'logits': array([-0.61345595], dtype=float32),\n",
       "  'logistic': array([0.35127127], dtype=float32),\n",
       "  'probabilities': array([0.6487288 , 0.35127127], dtype=float32),\n",
       "  'class_ids': array([0]),\n",
       "  'classes': array([b'0'], dtype=object),\n",
       "  'all_class_ids': array([0, 1], dtype=int32),\n",
       "  'all_classes': array([b'0', b'1'], dtype=object)},\n",
       " {'logits': array([0.13408971], dtype=float32),\n",
       "  'logistic': array([0.5334723], dtype=float32),\n",
       "  'probabilities': array([0.4665277, 0.5334723], dtype=float32),\n",
       "  'class_ids': array([1]),\n",
       "  'classes': array([b'1'], dtype=object),\n",
       "  'all_class_ids': array([0, 1], dtype=int32),\n",
       "  'all_classes': array([b'0', b'1'], dtype=object)},\n",
       " {'logits': array([0.23927534], dtype=float32),\n",
       "  'logistic': array([0.559535], dtype=float32),\n",
       "  'probabilities': array([0.44046497, 0.5595351 ], dtype=float32),\n",
       "  'class_ids': array([1]),\n",
       "  'classes': array([b'1'], dtype=object),\n",
       "  'all_class_ids': array([0, 1], dtype=int32),\n",
       "  'all_classes': array([b'0', b'1'], dtype=object)},\n",
       " {'logits': array([-0.38493675], dtype=float32),\n",
       "  'logistic': array([0.4049368], dtype=float32),\n",
       "  'probabilities': array([0.5950632 , 0.40493676], dtype=float32),\n",
       "  'class_ids': array([0]),\n",
       "  'classes': array([b'0'], dtype=object),\n",
       "  'all_class_ids': array([0, 1], dtype=int32),\n",
       "  'all_classes': array([b'0', b'1'], dtype=object)},\n",
       " {'logits': array([-0.58315295], dtype=float32),\n",
       "  'logistic': array([0.35820743], dtype=float32),\n",
       "  'probabilities': array([0.6417926 , 0.35820743], dtype=float32),\n",
       "  'class_ids': array([0]),\n",
       "  'classes': array([b'0'], dtype=object),\n",
       "  'all_class_ids': array([0, 1], dtype=int32),\n",
       "  'all_classes': array([b'0', b'1'], dtype=object)},\n",
       " {'logits': array([-0.6012821], dtype=float32),\n",
       "  'logistic': array([0.35405046], dtype=float32),\n",
       "  'probabilities': array([0.6459496 , 0.35405043], dtype=float32),\n",
       "  'class_ids': array([0]),\n",
       "  'classes': array([b'0'], dtype=object),\n",
       "  'all_class_ids': array([0, 1], dtype=int32),\n",
       "  'all_classes': array([b'0', b'1'], dtype=object)},\n",
       " {'logits': array([-1.402531], dtype=float32),\n",
       "  'logistic': array([0.19741479], dtype=float32),\n",
       "  'probabilities': array([0.80258524, 0.1974148 ], dtype=float32),\n",
       "  'class_ids': array([0]),\n",
       "  'classes': array([b'0'], dtype=object),\n",
       "  'all_class_ids': array([0, 1], dtype=int32),\n",
       "  'all_classes': array([b'0', b'1'], dtype=object)},\n",
       " {'logits': array([0.44674897], dtype=float32),\n",
       "  'logistic': array([0.60986596], dtype=float32),\n",
       "  'probabilities': array([0.390134, 0.609866], dtype=float32),\n",
       "  'class_ids': array([1]),\n",
       "  'classes': array([b'1'], dtype=object),\n",
       "  'all_class_ids': array([0, 1], dtype=int32),\n",
       "  'all_classes': array([b'0', b'1'], dtype=object)},\n",
       " {'logits': array([-1.8086481], dtype=float32),\n",
       "  'logistic': array([0.14080161], dtype=float32),\n",
       "  'probabilities': array([0.8591984 , 0.14080158], dtype=float32),\n",
       "  'class_ids': array([0]),\n",
       "  'classes': array([b'0'], dtype=object),\n",
       "  'all_class_ids': array([0, 1], dtype=int32),\n",
       "  'all_classes': array([b'0', b'1'], dtype=object)},\n",
       " {'logits': array([-1.1454898], dtype=float32),\n",
       "  'logistic': array([0.24131387], dtype=float32),\n",
       "  'probabilities': array([0.7586862 , 0.24131386], dtype=float32),\n",
       "  'class_ids': array([0]),\n",
       "  'classes': array([b'0'], dtype=object),\n",
       "  'all_class_ids': array([0, 1], dtype=int32),\n",
       "  'all_classes': array([b'0', b'1'], dtype=object)},\n",
       " {'logits': array([0.23919821], dtype=float32),\n",
       "  'logistic': array([0.5595161], dtype=float32),\n",
       "  'probabilities': array([0.4404839, 0.559516 ], dtype=float32),\n",
       "  'class_ids': array([1]),\n",
       "  'classes': array([b'1'], dtype=object),\n",
       "  'all_class_ids': array([0, 1], dtype=int32),\n",
       "  'all_classes': array([b'0', b'1'], dtype=object)},\n",
       " {'logits': array([-0.69841427], dtype=float32),\n",
       "  'logistic': array([0.33216393], dtype=float32),\n",
       "  'probabilities': array([0.6678361, 0.3321639], dtype=float32),\n",
       "  'class_ids': array([0]),\n",
       "  'classes': array([b'0'], dtype=object),\n",
       "  'all_class_ids': array([0, 1], dtype=int32),\n",
       "  'all_classes': array([b'0', b'1'], dtype=object)},\n",
       " {'logits': array([-1.3984905], dtype=float32),\n",
       "  'logistic': array([0.19805574], dtype=float32),\n",
       "  'probabilities': array([0.80194426, 0.19805576], dtype=float32),\n",
       "  'class_ids': array([0]),\n",
       "  'classes': array([b'0'], dtype=object),\n",
       "  'all_class_ids': array([0, 1], dtype=int32),\n",
       "  'all_classes': array([b'0', b'1'], dtype=object)},\n",
       " {'logits': array([-1.0136168], dtype=float32),\n",
       "  'logistic': array([0.26627266], dtype=float32),\n",
       "  'probabilities': array([0.73372734, 0.26627263], dtype=float32),\n",
       "  'class_ids': array([0]),\n",
       "  'classes': array([b'0'], dtype=object),\n",
       "  'all_class_ids': array([0, 1], dtype=int32),\n",
       "  'all_classes': array([b'0', b'1'], dtype=object)},\n",
       " {'logits': array([-1.1281135], dtype=float32),\n",
       "  'logistic': array([0.24450943], dtype=float32),\n",
       "  'probabilities': array([0.7554906 , 0.24450943], dtype=float32),\n",
       "  'class_ids': array([0]),\n",
       "  'classes': array([b'0'], dtype=object),\n",
       "  'all_class_ids': array([0, 1], dtype=int32),\n",
       "  'all_classes': array([b'0', b'1'], dtype=object)},\n",
       " {'logits': array([-1.7477612], dtype=float32),\n",
       "  'logistic': array([0.14832976], dtype=float32),\n",
       "  'probabilities': array([0.85167015, 0.14832978], dtype=float32),\n",
       "  'class_ids': array([0]),\n",
       "  'classes': array([b'0'], dtype=object),\n",
       "  'all_class_ids': array([0, 1], dtype=int32),\n",
       "  'all_classes': array([b'0', b'1'], dtype=object)},\n",
       " {'logits': array([-1.3343124], dtype=float32),\n",
       "  'logistic': array([0.20844695], dtype=float32),\n",
       "  'probabilities': array([0.7915531 , 0.20844692], dtype=float32),\n",
       "  'class_ids': array([0]),\n",
       "  'classes': array([b'0'], dtype=object),\n",
       "  'all_class_ids': array([0, 1], dtype=int32),\n",
       "  'all_classes': array([b'0', b'1'], dtype=object)},\n",
       " {'logits': array([0.1558156], dtype=float32),\n",
       "  'logistic': array([0.5388753], dtype=float32),\n",
       "  'probabilities': array([0.46112472, 0.5388753 ], dtype=float32),\n",
       "  'class_ids': array([1]),\n",
       "  'classes': array([b'1'], dtype=object),\n",
       "  'all_class_ids': array([0, 1], dtype=int32),\n",
       "  'all_classes': array([b'0', b'1'], dtype=object)},\n",
       " {'logits': array([0.740265], dtype=float32),\n",
       "  'logistic': array([0.6770538], dtype=float32),\n",
       "  'probabilities': array([0.3229462, 0.6770538], dtype=float32),\n",
       "  'class_ids': array([1]),\n",
       "  'classes': array([b'1'], dtype=object),\n",
       "  'all_class_ids': array([0, 1], dtype=int32),\n",
       "  'all_classes': array([b'0', b'1'], dtype=object)},\n",
       " {'logits': array([0.5119885], dtype=float32),\n",
       "  'logistic': array([0.6252725], dtype=float32),\n",
       "  'probabilities': array([0.3747275, 0.6252725], dtype=float32),\n",
       "  'class_ids': array([1]),\n",
       "  'classes': array([b'1'], dtype=object),\n",
       "  'all_class_ids': array([0, 1], dtype=int32),\n",
       "  'all_classes': array([b'0', b'1'], dtype=object)},\n",
       " {'logits': array([0.73984253], dtype=float32),\n",
       "  'logistic': array([0.6769614], dtype=float32),\n",
       "  'probabilities': array([0.32303858, 0.6769614 ], dtype=float32),\n",
       "  'class_ids': array([1]),\n",
       "  'classes': array([b'1'], dtype=object),\n",
       "  'all_class_ids': array([0, 1], dtype=int32),\n",
       "  'all_classes': array([b'0', b'1'], dtype=object)},\n",
       " {'logits': array([-0.23170197], dtype=float32),\n",
       "  'logistic': array([0.44233227], dtype=float32),\n",
       "  'probabilities': array([0.55766773, 0.44233227], dtype=float32),\n",
       "  'class_ids': array([0]),\n",
       "  'classes': array([b'0'], dtype=object),\n",
       "  'all_class_ids': array([0, 1], dtype=int32),\n",
       "  'all_classes': array([b'0', b'1'], dtype=object)},\n",
       " {'logits': array([-0.7860912], dtype=float32),\n",
       "  'logistic': array([0.3130086], dtype=float32),\n",
       "  'probabilities': array([0.68699145, 0.3130086 ], dtype=float32),\n",
       "  'class_ids': array([0]),\n",
       "  'classes': array([b'0'], dtype=object),\n",
       "  'all_class_ids': array([0, 1], dtype=int32),\n",
       "  'all_classes': array([b'0', b'1'], dtype=object)},\n",
       " {'logits': array([0.1159817], dtype=float32),\n",
       "  'logistic': array([0.52896297], dtype=float32),\n",
       "  'probabilities': array([0.47103706, 0.52896297], dtype=float32),\n",
       "  'class_ids': array([1]),\n",
       "  'classes': array([b'1'], dtype=object),\n",
       "  'all_class_ids': array([0, 1], dtype=int32),\n",
       "  'all_classes': array([b'0', b'1'], dtype=object)},\n",
       " {'logits': array([-1.532721], dtype=float32),\n",
       "  'logistic': array([0.17759591], dtype=float32),\n",
       "  'probabilities': array([0.8224041 , 0.17759591], dtype=float32),\n",
       "  'class_ids': array([0]),\n",
       "  'classes': array([b'0'], dtype=object),\n",
       "  'all_class_ids': array([0, 1], dtype=int32),\n",
       "  'all_classes': array([b'0', b'1'], dtype=object)},\n",
       " {'logits': array([-1.6352305], dtype=float32),\n",
       "  'logistic': array([0.16311511], dtype=float32),\n",
       "  'probabilities': array([0.8368849 , 0.16311508], dtype=float32),\n",
       "  'class_ids': array([0]),\n",
       "  'classes': array([b'0'], dtype=object),\n",
       "  'all_class_ids': array([0, 1], dtype=int32),\n",
       "  'all_classes': array([b'0', b'1'], dtype=object)},\n",
       " {'logits': array([-1.5311632], dtype=float32),\n",
       "  'logistic': array([0.17782357], dtype=float32),\n",
       "  'probabilities': array([0.82217646, 0.17782356], dtype=float32),\n",
       "  'class_ids': array([0]),\n",
       "  'classes': array([b'0'], dtype=object),\n",
       "  'all_class_ids': array([0, 1], dtype=int32),\n",
       "  'all_classes': array([b'0', b'1'], dtype=object)},\n",
       " {'logits': array([-0.0657506], dtype=float32),\n",
       "  'logistic': array([0.48356828], dtype=float32),\n",
       "  'probabilities': array([0.5164317 , 0.48356822], dtype=float32),\n",
       "  'class_ids': array([0]),\n",
       "  'classes': array([b'0'], dtype=object),\n",
       "  'all_class_ids': array([0, 1], dtype=int32),\n",
       "  'all_classes': array([b'0', b'1'], dtype=object)},\n",
       " {'logits': array([-2.7219195], dtype=float32),\n",
       "  'logistic': array([0.06169224], dtype=float32),\n",
       "  'probabilities': array([0.9383077 , 0.06169225], dtype=float32),\n",
       "  'class_ids': array([0]),\n",
       "  'classes': array([b'0'], dtype=object),\n",
       "  'all_class_ids': array([0, 1], dtype=int32),\n",
       "  'all_classes': array([b'0', b'1'], dtype=object)},\n",
       " {'logits': array([-1.0577998], dtype=float32),\n",
       "  'logistic': array([0.25773013], dtype=float32),\n",
       "  'probabilities': array([0.7422698 , 0.25773013], dtype=float32),\n",
       "  'class_ids': array([0]),\n",
       "  'classes': array([b'0'], dtype=object),\n",
       "  'all_class_ids': array([0, 1], dtype=int32),\n",
       "  'all_classes': array([b'0', b'1'], dtype=object)},\n",
       " {'logits': array([-1.5246809], dtype=float32),\n",
       "  'logistic': array([0.17877325], dtype=float32),\n",
       "  'probabilities': array([0.8212268 , 0.17877328], dtype=float32),\n",
       "  'class_ids': array([0]),\n",
       "  'classes': array([b'0'], dtype=object),\n",
       "  'all_class_ids': array([0, 1], dtype=int32),\n",
       "  'all_classes': array([b'0', b'1'], dtype=object)},\n",
       " {'logits': array([-0.94398206], dtype=float32),\n",
       "  'logistic': array([0.28009668], dtype=float32),\n",
       "  'probabilities': array([0.71990335, 0.2800967 ], dtype=float32),\n",
       "  'class_ids': array([0]),\n",
       "  'classes': array([b'0'], dtype=object),\n",
       "  'all_class_ids': array([0, 1], dtype=int32),\n",
       "  'all_classes': array([b'0', b'1'], dtype=object)},\n",
       " {'logits': array([-1.1665087], dtype=float32),\n",
       "  'logistic': array([0.23748663], dtype=float32),\n",
       "  'probabilities': array([0.7625134 , 0.23748665], dtype=float32),\n",
       "  'class_ids': array([0]),\n",
       "  'classes': array([b'0'], dtype=object),\n",
       "  'all_class_ids': array([0, 1], dtype=int32),\n",
       "  'all_classes': array([b'0', b'1'], dtype=object)},\n",
       " {'logits': array([-0.9133395], dtype=float32),\n",
       "  'logistic': array([0.28631696], dtype=float32),\n",
       "  'probabilities': array([0.71368307, 0.28631696], dtype=float32),\n",
       "  'class_ids': array([0]),\n",
       "  'classes': array([b'0'], dtype=object),\n",
       "  'all_class_ids': array([0, 1], dtype=int32),\n",
       "  'all_classes': array([b'0', b'1'], dtype=object)},\n",
       " {'logits': array([1.1101232], dtype=float32),\n",
       "  'logistic': array([0.7521521], dtype=float32),\n",
       "  'probabilities': array([0.24784793, 0.7521521 ], dtype=float32),\n",
       "  'class_ids': array([1]),\n",
       "  'classes': array([b'1'], dtype=object),\n",
       "  'all_class_ids': array([0, 1], dtype=int32),\n",
       "  'all_classes': array([b'0', b'1'], dtype=object)},\n",
       " {'logits': array([-1.5503187], dtype=float32),\n",
       "  'logistic': array([0.17504025], dtype=float32),\n",
       "  'probabilities': array([0.82495975, 0.17504025], dtype=float32),\n",
       "  'class_ids': array([0]),\n",
       "  'classes': array([b'0'], dtype=object),\n",
       "  'all_class_ids': array([0, 1], dtype=int32),\n",
       "  'all_classes': array([b'0', b'1'], dtype=object)},\n",
       " {'logits': array([-1.9513175], dtype=float32),\n",
       "  'logistic': array([0.12440977], dtype=float32),\n",
       "  'probabilities': array([0.8755902 , 0.12440977], dtype=float32),\n",
       "  'class_ids': array([0]),\n",
       "  'classes': array([b'0'], dtype=object),\n",
       "  'all_class_ids': array([0, 1], dtype=int32),\n",
       "  'all_classes': array([b'0', b'1'], dtype=object)},\n",
       " {'logits': array([0.2611227], dtype=float32),\n",
       "  'logistic': array([0.56491226], dtype=float32),\n",
       "  'probabilities': array([0.43508774, 0.56491226], dtype=float32),\n",
       "  'class_ids': array([1]),\n",
       "  'classes': array([b'1'], dtype=object),\n",
       "  'all_class_ids': array([0, 1], dtype=int32),\n",
       "  'all_classes': array([b'0', b'1'], dtype=object)},\n",
       " {'logits': array([-0.05558699], dtype=float32),\n",
       "  'logistic': array([0.48610684], dtype=float32),\n",
       "  'probabilities': array([0.5138932 , 0.48610684], dtype=float32),\n",
       "  'class_ids': array([0]),\n",
       "  'classes': array([b'0'], dtype=object),\n",
       "  'all_class_ids': array([0, 1], dtype=int32),\n",
       "  'all_classes': array([b'0', b'1'], dtype=object)},\n",
       " {'logits': array([1.5827711], dtype=float32),\n",
       "  'logistic': array([0.82959664], dtype=float32),\n",
       "  'probabilities': array([0.17040339, 0.82959664], dtype=float32),\n",
       "  'class_ids': array([1]),\n",
       "  'classes': array([b'1'], dtype=object),\n",
       "  'all_class_ids': array([0, 1], dtype=int32),\n",
       "  'all_classes': array([b'0', b'1'], dtype=object)},\n",
       " {'logits': array([0.58589256], dtype=float32),\n",
       "  'logistic': array([0.64242214], dtype=float32),\n",
       "  'probabilities': array([0.35757786, 0.64242214], dtype=float32),\n",
       "  'class_ids': array([1]),\n",
       "  'classes': array([b'1'], dtype=object),\n",
       "  'all_class_ids': array([0, 1], dtype=int32),\n",
       "  'all_classes': array([b'0', b'1'], dtype=object)},\n",
       " {'logits': array([-1.919705], dtype=float32),\n",
       "  'logistic': array([0.12789443], dtype=float32),\n",
       "  'probabilities': array([0.87210554, 0.12789446], dtype=float32),\n",
       "  'class_ids': array([0]),\n",
       "  'classes': array([b'0'], dtype=object),\n",
       "  'all_class_ids': array([0, 1], dtype=int32),\n",
       "  'all_classes': array([b'0', b'1'], dtype=object)},\n",
       " {'logits': array([0.47393763], dtype=float32),\n",
       "  'logistic': array([0.6163153], dtype=float32),\n",
       "  'probabilities': array([0.38368466, 0.6163153 ], dtype=float32),\n",
       "  'class_ids': array([1]),\n",
       "  'classes': array([b'1'], dtype=object),\n",
       "  'all_class_ids': array([0, 1], dtype=int32),\n",
       "  'all_classes': array([b'0', b'1'], dtype=object)}]"
      ]
     },
     "execution_count": 175,
     "metadata": {},
     "output_type": "execute_result"
    }
   ],
   "source": [
    "my_predictions"
   ]
  },
  {
   "cell_type": "code",
   "execution_count": 183,
   "id": "b42037d4",
   "metadata": {},
   "outputs": [],
   "source": [
    "# DNN MODEL"
   ]
  },
  {
   "cell_type": "code",
   "execution_count": 177,
   "id": "6521f7b7",
   "metadata": {},
   "outputs": [],
   "source": [
    "embedded_group_col = tf.feature_column.embedding_column(assigned_group,dimension=4)"
   ]
  },
  {
   "cell_type": "code",
   "execution_count": 180,
   "id": "1b86e3b4",
   "metadata": {},
   "outputs": [],
   "source": [
    "feat_cols = [num_preg,plasma_gluc,dias_press,tricep,insulin,bmi,diabetes_pedigree,embedded_group_col,age_bucket]"
   ]
  },
  {
   "cell_type": "code",
   "execution_count": 181,
   "id": "0442d893",
   "metadata": {},
   "outputs": [],
   "source": [
    "input_func = tf.compat.v1.estimator.inputs.pandas_input_fn(X_train,y_train,batch_size=10,num_epochs= 1000,shuffle=True)"
   ]
  },
  {
   "cell_type": "code",
   "execution_count": 182,
   "id": "62ac0b8d",
   "metadata": {},
   "outputs": [
    {
     "name": "stdout",
     "output_type": "stream",
     "text": [
      "INFO:tensorflow:Using default config.\n",
      "WARNING:tensorflow:Using temporary folder as model directory: /var/folders/tk/n3k58pnd31x8x6f8yp8dgllr0000gn/T/tmppve4_o53\n",
      "INFO:tensorflow:Using config: {'_model_dir': '/var/folders/tk/n3k58pnd31x8x6f8yp8dgllr0000gn/T/tmppve4_o53', '_tf_random_seed': None, '_save_summary_steps': 100, '_save_checkpoints_steps': None, '_save_checkpoints_secs': 600, '_session_config': allow_soft_placement: true\n",
      "graph_options {\n",
      "  rewrite_options {\n",
      "    meta_optimizer_iterations: ONE\n",
      "  }\n",
      "}\n",
      ", '_keep_checkpoint_max': 5, '_keep_checkpoint_every_n_hours': 10000, '_log_step_count_steps': 100, '_train_distribute': None, '_device_fn': None, '_protocol': None, '_eval_distribute': None, '_experimental_distribute': None, '_experimental_max_worker_delay_secs': None, '_session_creation_timeout_secs': 7200, '_checkpoint_save_graph_def': True, '_service': None, '_cluster_spec': ClusterSpec({}), '_task_type': 'worker', '_task_id': 0, '_global_id_in_cluster': 0, '_master': '', '_evaluation_master': '', '_is_chief': True, '_num_ps_replicas': 0, '_num_worker_replicas': 1}\n"
     ]
    }
   ],
   "source": [
    "dnn_model = tf.compat.v1.estimator.DNNClassifier(hidden_units = [10,10,10],feature_columns=feat_cols,n_classes=2)"
   ]
  },
  {
   "cell_type": "code",
   "execution_count": 184,
   "id": "93605e73",
   "metadata": {},
   "outputs": [
    {
     "name": "stdout",
     "output_type": "stream",
     "text": [
      "INFO:tensorflow:Calling model_fn.\n",
      "INFO:tensorflow:Done calling model_fn.\n",
      "INFO:tensorflow:Create CheckpointSaverHook.\n",
      "INFO:tensorflow:Graph was finalized.\n",
      "INFO:tensorflow:Running local_init_op.\n",
      "INFO:tensorflow:Done running local_init_op.\n",
      "INFO:tensorflow:Calling checkpoint listeners before saving checkpoint 0...\n",
      "INFO:tensorflow:Saving checkpoints for 0 into /var/folders/tk/n3k58pnd31x8x6f8yp8dgllr0000gn/T/tmppve4_o53/model.ckpt.\n",
      "INFO:tensorflow:Calling checkpoint listeners after saving checkpoint 0...\n",
      "INFO:tensorflow:loss = 7.100853, step = 0\n",
      "INFO:tensorflow:global_step/sec: 426.505\n",
      "INFO:tensorflow:loss = 6.776534, step = 100 (0.236 sec)\n",
      "INFO:tensorflow:global_step/sec: 603.061\n",
      "INFO:tensorflow:loss = 4.2908273, step = 200 (0.164 sec)\n",
      "INFO:tensorflow:global_step/sec: 653.1\n",
      "INFO:tensorflow:loss = 7.291239, step = 300 (0.154 sec)\n",
      "INFO:tensorflow:global_step/sec: 636.072\n",
      "INFO:tensorflow:loss = 6.2106824, step = 400 (0.157 sec)\n",
      "INFO:tensorflow:global_step/sec: 642.297\n",
      "INFO:tensorflow:loss = 5.222558, step = 500 (0.154 sec)\n",
      "INFO:tensorflow:global_step/sec: 595.621\n",
      "INFO:tensorflow:loss = 4.4076166, step = 600 (0.168 sec)\n",
      "INFO:tensorflow:global_step/sec: 610.743\n",
      "INFO:tensorflow:loss = 5.487608, step = 700 (0.164 sec)\n",
      "INFO:tensorflow:global_step/sec: 644.686\n",
      "INFO:tensorflow:loss = 4.329741, step = 800 (0.155 sec)\n",
      "INFO:tensorflow:global_step/sec: 650.8\n",
      "INFO:tensorflow:loss = 4.2071857, step = 900 (0.154 sec)\n",
      "INFO:tensorflow:Calling checkpoint listeners before saving checkpoint 1000...\n",
      "INFO:tensorflow:Saving checkpoints for 1000 into /var/folders/tk/n3k58pnd31x8x6f8yp8dgllr0000gn/T/tmppve4_o53/model.ckpt.\n",
      "INFO:tensorflow:Calling checkpoint listeners after saving checkpoint 1000...\n",
      "INFO:tensorflow:Loss for final step: 2.5917304.\n"
     ]
    },
    {
     "data": {
      "text/plain": [
       "<tensorflow_estimator.python.estimator.canned.dnn.DNNClassifier at 0x7fdc30216950>"
      ]
     },
     "execution_count": 184,
     "metadata": {},
     "output_type": "execute_result"
    }
   ],
   "source": [
    "dnn_model.train(input_fn=input_func,steps=1000)"
   ]
  },
  {
   "cell_type": "code",
   "execution_count": 185,
   "id": "0208c50e",
   "metadata": {},
   "outputs": [],
   "source": [
    "eval_input_func = tf.compat.v1.estimator.inputs.pandas_input_fn(X_test,y_test,batch_size=10,num_epochs= 1000,shuffle=False)\n"
   ]
  },
  {
   "cell_type": "code",
   "execution_count": 188,
   "id": "e3dd6911",
   "metadata": {},
   "outputs": [
    {
     "name": "stdout",
     "output_type": "stream",
     "text": [
      "INFO:tensorflow:Calling model_fn.\n",
      "WARNING:tensorflow:Trapezoidal rule is known to produce incorrect PR-AUCs; please switch to \"careful_interpolation\" instead.\n",
      "WARNING:tensorflow:Trapezoidal rule is known to produce incorrect PR-AUCs; please switch to \"careful_interpolation\" instead.\n",
      "INFO:tensorflow:Done calling model_fn.\n",
      "INFO:tensorflow:Starting evaluation at 2021-06-02T09:01:04Z\n",
      "INFO:tensorflow:Graph was finalized.\n",
      "INFO:tensorflow:Restoring parameters from /var/folders/tk/n3k58pnd31x8x6f8yp8dgllr0000gn/T/tmppve4_o53/model.ckpt-1000\n",
      "INFO:tensorflow:Running local_init_op.\n",
      "INFO:tensorflow:Done running local_init_op.\n",
      "INFO:tensorflow:Inference Time : 33.56489s\n",
      "INFO:tensorflow:Finished evaluation at 2021-06-02-09:01:38\n",
      "INFO:tensorflow:Saving dict for global step 1000: accuracy = 0.7532467, accuracy_baseline = 0.64935064, auc = 0.82213986, auc_precision_recall = 0.6520806, average_loss = 0.49132517, global_step = 1000, label/mean = 0.35064936, loss = 4.913252, precision = 0.65789473, prediction/mean = 0.35222077, recall = 0.61728394\n",
      "INFO:tensorflow:Saving 'checkpoint_path' summary for global step 1000: /var/folders/tk/n3k58pnd31x8x6f8yp8dgllr0000gn/T/tmppve4_o53/model.ckpt-1000\n"
     ]
    }
   ],
   "source": [
    "results = dnn_model.evaluate(eval_input_func)"
   ]
  },
  {
   "cell_type": "code",
   "execution_count": 189,
   "id": "9a0cf0bb",
   "metadata": {},
   "outputs": [
    {
     "data": {
      "text/plain": [
       "{'accuracy': 0.7532467,\n",
       " 'accuracy_baseline': 0.64935064,\n",
       " 'auc': 0.82213986,\n",
       " 'auc_precision_recall': 0.6520806,\n",
       " 'average_loss': 0.49132517,\n",
       " 'label/mean': 0.35064936,\n",
       " 'loss': 4.913252,\n",
       " 'precision': 0.65789473,\n",
       " 'prediction/mean': 0.35222077,\n",
       " 'recall': 0.61728394,\n",
       " 'global_step': 1000}"
      ]
     },
     "execution_count": 189,
     "metadata": {},
     "output_type": "execute_result"
    }
   ],
   "source": [
    "results"
   ]
  },
  {
   "cell_type": "code",
   "execution_count": null,
   "id": "72807cd6",
   "metadata": {},
   "outputs": [],
   "source": []
  }
 ],
 "metadata": {
  "kernelspec": {
   "display_name": "Python 3",
   "language": "python",
   "name": "python3"
  },
  "language_info": {
   "codemirror_mode": {
    "name": "ipython",
    "version": 3
   },
   "file_extension": ".py",
   "mimetype": "text/x-python",
   "name": "python",
   "nbconvert_exporter": "python",
   "pygments_lexer": "ipython3",
   "version": "3.7.10"
  }
 },
 "nbformat": 4,
 "nbformat_minor": 5
}
